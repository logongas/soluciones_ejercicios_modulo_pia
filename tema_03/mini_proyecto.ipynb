{
 "cells": [
  {
   "cell_type": "code",
   "execution_count": 1,
   "metadata": {},
   "outputs": [],
   "source": [
    "import numpy as np\n",
    "import tensorflow as tf\n",
    "from keras.models import Sequential\n",
    "from keras.layers import Dense\n",
    "import random\n",
    "from tabulate import tabulate\n",
    "from time import perf_counter"
   ]
  },
  {
   "cell_type": "code",
   "execution_count": 2,
   "metadata": {},
   "outputs": [],
   "source": [
    "#Paso 1\n",
    "\n",
    "def get_datos():\n",
    "    datos=[[  2.01666708 ,  56.18031474], [  4.79734083 ,  47.18848199], [  9.23784581 ,  57.68974048], [ 14.11529384 ,  43.70348368],\n",
    "         [ 14.92688637 ,  59.10244323], [ 17.34408196 ,  65.96080804], [ 17.62435324 ,  45.74334603], [ 22.41875021 ,  13.575581  ],\n",
    "         [ 25.3139145  ,  68.43756969], [ 34.85886672 , 147.15375307], [ 38.87476262 ,  25.39687009], [ 42.01380169 ,  74.39010069],\n",
    "         [ 46.63551059 ,  98.93395801], [ 49.58578273 , 116.07013679], [ 50.18371003 , 138.55546747], [ 52.06630172 , 139.36601894],\n",
    "         [ 54.68810274 , 150.09622546], [ 57.13046193 , 156.14375739], [ 66.35609935 , 119.75844452], [ 69.05499042 , 139.08155228],\n",
    "         [ 69.51252436 , 128.72247348], [ 69.83788756 , 152.65110462], [ 79.76649746 , 148.23106977], [ 81.83730552 , 137.86314926],\n",
    "         [ 87.09879038 , 217.28932067], [ 89.00469759 , 168.64994509], [ 93.17139213 , 163.10598352], [ 93.66070686 , 200.47638924],\n",
    "         [ 94.1944751  , 150.44019156], [ 97.36920633 , 173.2055957 ]]\n",
    "\n",
    "    return datos\n",
    "\n",
    "\n",
    "datos=np.array(get_datos())\n",
    "\n",
    "x=datos[:,0]\n",
    "y=datos[:,1]\n"
   ]
  },
  {
   "cell_type": "code",
   "execution_count": 3,
   "metadata": {},
   "outputs": [
    {
     "name": "stderr",
     "output_type": "stream",
     "text": [
      "2024-11-23 20:44:15.831203: E tensorflow/stream_executor/cuda/cuda_driver.cc:271] failed call to cuInit: CUDA_ERROR_UNKNOWN: unknown error\n",
      "2024-11-23 20:44:15.831227: I tensorflow/stream_executor/cuda/cuda_diagnostics.cc:169] retrieving CUDA diagnostic information for host: beren\n",
      "2024-11-23 20:44:15.831232: I tensorflow/stream_executor/cuda/cuda_diagnostics.cc:176] hostname: beren\n",
      "2024-11-23 20:44:15.831334: I tensorflow/stream_executor/cuda/cuda_diagnostics.cc:200] libcuda reported version is: 565.57.1\n",
      "2024-11-23 20:44:15.831353: I tensorflow/stream_executor/cuda/cuda_diagnostics.cc:204] kernel reported version is: 565.57.1\n",
      "2024-11-23 20:44:15.831358: I tensorflow/stream_executor/cuda/cuda_diagnostics.cc:310] kernel version seems to match DSO: 565.57.1\n",
      "2024-11-23 20:44:15.831815: I tensorflow/core/platform/cpu_feature_guard.cc:151] This TensorFlow binary is optimized with oneAPI Deep Neural Network Library (oneDNN) to use the following CPU instructions in performance-critical operations:  AVX2 FMA\n",
      "To enable them in other operations, rebuild TensorFlow with the appropriate compiler flags.\n"
     ]
    }
   ],
   "source": [
    "#Paso 2\n",
    "def compile_fit(capas,x,y):\n",
    "    np.random.seed(5)\n",
    "    tf.random.set_seed(5)\n",
    "    random.seed(5)  \n",
    "    \n",
    "    model=Sequential()\n",
    "    for index,neuronas_capa in enumerate(capas):\n",
    "        if (index==0):\n",
    "            model.add(Dense(neuronas_capa, activation='relu',input_dim=1))\n",
    "        elif (index==len(capas)-1):\n",
    "            model.add(Dense(neuronas_capa, activation='linear'))\n",
    "        else:\n",
    "            model.add(Dense(neuronas_capa, activation='relu'))\n",
    "    model.compile(loss='mean_squared_error')\n",
    "    \n",
    "    history=model.fit(x, y,epochs=5000,verbose=False) \n",
    "\n",
    "    return model,history\n",
    "\n",
    "capas=[5,10,3,10,1]\n",
    "model,history=compile_fit(capas,x,y)\n",
    "\n"
   ]
  },
  {
   "cell_type": "code",
   "execution_count": 4,
   "metadata": {},
   "outputs": [
    {
     "name": "stdout",
     "output_type": "stream",
     "text": [
      "       x    y_true    y_pred     error\n",
      "--------  --------  --------  --------\n",
      " 2.01667   56.1803   36.5675  384.663\n",
      " 4.79734   47.1885   40.9242   39.2418\n",
      " 9.23785   57.6897   47.8814   96.2036\n",
      "14.1153    43.7035   55.5232  139.707\n"
     ]
    }
   ],
   "source": [
    "#Paso 3\n",
    "\n",
    "x_paso3=np.array([ 2.01666708, 4.79734083, 9.23784581, 14.11529384 ]).reshape(-1,1)\n",
    "y_true_paso3=np.array([ 56.18031474, 47.18848199, 57.68974048, 43.70348368]).reshape(-1,1)\n",
    "y_pred_paso3=model.predict(x_paso3)\n",
    "y_error_paso3=(y_true_paso3-y_pred_paso3)**2\n",
    "\n",
    "resultado_paso3=np.column_stack((x_paso3,y_true_paso3,y_pred_paso3,y_error_paso3))\n",
    "\n",
    "print(tabulate(resultado_paso3,headers=[\"x\",\"y_true\",\"y_pred\",\"error\"]))\n"
   ]
  },
  {
   "cell_type": "code",
   "execution_count": 5,
   "metadata": {},
   "outputs": [
    {
     "name": "stdout",
     "output_type": "stream",
     "text": [
      "Mean Squared Error (MSE)=164.954\n"
     ]
    }
   ],
   "source": [
    "#Paso 4\n",
    "\n",
    "mse=np.sum(y_error_paso3)/np.size(y_error_paso3)\n",
    "print(f\"Mean Squared Error (MSE)={mse:.3f}\")"
   ]
  },
  {
   "cell_type": "code",
   "execution_count": 6,
   "metadata": {},
   "outputs": [
    {
     "name": "stdout",
     "output_type": "stream",
     "text": [
      "Coeficiente de determinación o R²=-3.740\n"
     ]
    }
   ],
   "source": [
    "#Paso 5\n",
    "media_valores_verdaderos=np.sum(y_true_paso3)/np.size(y_true_paso3)\n",
    "suma_errores=np.sum((y_true_paso3-y_pred_paso3)**2)\n",
    "suma_valores_media=np.sum((y_true_paso3-media_valores_verdaderos)**2)\n",
    "coeficiente_determinacion=1-(suma_errores/suma_valores_media)\n",
    "\n",
    "print(f\"Coeficiente de determinación o R²={coeficiente_determinacion:.3f}\")"
   ]
  },
  {
   "cell_type": "code",
   "execution_count": 7,
   "metadata": {},
   "outputs": [
    {
     "name": "stdout",
     "output_type": "stream",
     "text": [
      "Coeficiente de determinación o R²=0.748\n",
      "Mean Squared Error (MSE)=718.298\n"
     ]
    }
   ],
   "source": [
    "#Paso 6\n",
    "def get_mse(y_true,y_pred):\n",
    "    y_error=(y_true-y_pred)**2\n",
    "    mse=np.sum(y_error)/np.size(y_error)\n",
    "\n",
    "    return mse\n",
    "\n",
    "def get_coeficiente_determinacion(y_true,y_pred):\n",
    "    media_valores_verdaderos=np.sum(y_true)/np.size(y_true)\n",
    "    suma_errores=np.sum((y_true-y_pred)**2)\n",
    "    suma_valores_media=np.sum((y_true-media_valores_verdaderos)**2)\n",
    "    coeficiente_determinacion=1-(suma_errores/suma_valores_media)\n",
    "\n",
    "    return coeficiente_determinacion\n",
    "\n",
    "\n",
    "def get_metricas_modelo(model,x,y_true):\n",
    "    y_pred=model.predict(x)\n",
    "    mse=get_mse(y_true,y_pred)\n",
    "    coeficiente_determinacion=get_coeficiente_determinacion(y_true,y_pred)\n",
    "\n",
    "    return mse,coeficiente_determinacion\n",
    "\n",
    "mse,coeficiente_determinacion=get_metricas_modelo(model,x.reshape(-1,1),y.reshape(-1,1))\n",
    "\n",
    "print(f\"Coeficiente de determinación o R²={coeficiente_determinacion:.3f}\")\n",
    "print(f\"Mean Squared Error (MSE)={mse:.3f}\")"
   ]
  },
  {
   "cell_type": "code",
   "execution_count": 8,
   "metadata": {},
   "outputs": [
    {
     "name": "stdout",
     "output_type": "stream",
     "text": [
      "Coeficiente de determinación o R²=0.811\n",
      "Mean Squared Error (MSE)=539.139\n"
     ]
    }
   ],
   "source": [
    "#Paso 7\n",
    "capas=[20,40,80,40,20,1]\n",
    "model,history=compile_fit(capas,x,y)\n",
    "mse,coeficiente_determinacion=get_metricas_modelo(model,x.reshape(-1,1),y.reshape(-1,1))\n",
    "\n",
    "print(f\"Coeficiente de determinación o R²={coeficiente_determinacion:.3f}\")\n",
    "print(f\"Mean Squared Error (MSE)={mse:.3f}\")"
   ]
  },
  {
   "cell_type": "code",
   "execution_count": 9,
   "metadata": {},
   "outputs": [
    {
     "name": "stdout",
     "output_type": "stream",
     "text": [
      "Coeficiente de determinación o R²=0.936\n",
      "Mean Squared Error (MSE)=182.719\n"
     ]
    }
   ],
   "source": [
    "#Paso 8\n",
    "\n",
    "def compile_fit(capas,x,y,activation):\n",
    "    np.random.seed(5)\n",
    "    tf.random.set_seed(5)\n",
    "    random.seed(5)  \n",
    "    \n",
    "    model=Sequential()\n",
    "    for index,neuronas_capa in enumerate(capas):\n",
    "        if (index==0):\n",
    "            model.add(Dense(neuronas_capa, activation=activation,input_dim=1))\n",
    "        elif (index==len(capas)-1):\n",
    "            model.add(Dense(neuronas_capa, activation='linear'))\n",
    "        else:\n",
    "            model.add(Dense(neuronas_capa, activation=activation))\n",
    "    model.compile(loss='mean_squared_error')\n",
    "    \n",
    "    history=model.fit(x, y,epochs=5000,verbose=False) \n",
    "\n",
    "    return model,history\n",
    "\n",
    "\n",
    "\n",
    "capas=[20,40,80,40,20,1]\n",
    "model,history=compile_fit(capas,x,y,\"selu\")\n",
    "mse,coeficiente_determinacion=get_metricas_modelo(model,x.reshape(-1,1),y.reshape(-1,1))\n",
    "\n",
    "print(f\"Coeficiente de determinación o R²={coeficiente_determinacion:.3f}\")\n",
    "print(f\"Mean Squared Error (MSE)={mse:.3f}\")"
   ]
  },
  {
   "cell_type": "code",
   "execution_count": 10,
   "metadata": {},
   "outputs": [
    {
     "name": "stdout",
     "output_type": "stream",
     "text": [
      "WARNING:tensorflow:5 out of the last 6 calls to <function Model.make_predict_function.<locals>.predict_function at 0x79d5f389e050> triggered tf.function retracing. Tracing is expensive and the excessive number of tracings could be due to (1) creating @tf.function repeatedly in a loop, (2) passing tensors with different shapes, (3) passing Python objects instead of tensors. For (1), please define your @tf.function outside of the loop. For (2), @tf.function has experimental_relax_shapes=True option that relaxes argument shapes that can avoid unnecessary retracing. For (3), please refer to https://www.tensorflow.org/guide/function#controlling_retracing and https://www.tensorflow.org/api_docs/python/tf/function for  more details.\n",
      "WARNING:tensorflow:6 out of the last 7 calls to <function Model.make_predict_function.<locals>.predict_function at 0x79d5f389f640> triggered tf.function retracing. Tracing is expensive and the excessive number of tracings could be due to (1) creating @tf.function repeatedly in a loop, (2) passing tensors with different shapes, (3) passing Python objects instead of tensors. For (1), please define your @tf.function outside of the loop. For (2), @tf.function has experimental_relax_shapes=True option that relaxes argument shapes that can avoid unnecessary retracing. For (3), please refer to https://www.tensorflow.org/guide/function#controlling_retracing and https://www.tensorflow.org/api_docs/python/tf/function for  more details.\n",
      "  Nombre  Capas                             Activación         MSE           R²           Tiempo\n",
      "     Red                                                                           Entrenamiento\n",
      "--------  --------------------------------  ------------  --------  -----------  ---------------\n",
      "       1  [5, 10, 3, 10, 1]                 relu           718.298   0.748316            3.4089\n",
      "       2  [5, 10, 3, 10, 1]                 selu           717.653   0.748541            3.42228\n",
      "       3  [5, 10, 3, 10, 1]                 tanh          5941.53   -1.08185             3.40019\n",
      "       4  [20, 40, 80, 40, 20, 1]           relu           539.139   0.811091            3.6182\n",
      "       5  [20, 40, 80, 40, 20, 1]           selu           182.719   0.935977            3.65107\n",
      "       6  [20, 40, 80, 40, 20, 1]           tanh          2883.8    -0.0104537           3.8594\n",
      "       7  [20, 40, 80, 160, 80, 40, 20, 1]  relu           396.495   0.861072            4.21018\n",
      "       8  [20, 40, 80, 160, 80, 40, 20, 1]  selu           172.284   0.939634            4.24802\n",
      "       9  [20, 40, 80, 160, 80, 40, 20, 1]  tanh          2866.53   -0.00440395          4.18134\n"
     ]
    }
   ],
   "source": [
    "#Paso 9\n",
    "\n",
    "def compile_fit(capas,x,y,activation):\n",
    "    np.random.seed(5)\n",
    "    tf.random.set_seed(5)\n",
    "    random.seed(5)  \n",
    "    \n",
    "    model=Sequential()\n",
    "    for index,neuronas_capa in enumerate(capas):\n",
    "        if (index==0):\n",
    "            model.add(Dense(neuronas_capa, activation=activation,input_dim=1))\n",
    "        elif (index==len(capas)-1):\n",
    "            model.add(Dense(neuronas_capa, activation='linear'))\n",
    "        else:\n",
    "            model.add(Dense(neuronas_capa, activation=activation))\n",
    "    model.compile(loss='mean_squared_error')\n",
    "    \n",
    "    tiempo_entrenamiento = perf_counter()\n",
    "    history=model.fit(x, y,epochs=5000,verbose=False) \n",
    "    tiempo_entrenamiento=perf_counter()-tiempo_entrenamiento\n",
    "\n",
    "    return model,history,tiempo_entrenamiento\n",
    "\n",
    "redes_neuronales=[\n",
    "    [[5,10,3,10,1],\"relu\"],\n",
    "    [[5,10,3,10,1],\"selu\"],\n",
    "    [[5,10,3,10,1],\"tanh\"],    \n",
    "    [[20,40,80,40,20,1],\"relu\"],\n",
    "    [[20,40,80,40,20,1],\"selu\"],\n",
    "    [[20,40,80,40,20,1],\"tanh\"],\n",
    "    [[20,40,80,160,80,40,20,1],\"relu\"],\n",
    "    [[20,40,80,160,80,40,20,1],\"selu\"],\n",
    "    [[20,40,80,160,80,40,20,1],\"tanh\"]                           \n",
    "]\n",
    "\n",
    "resultados=[]\n",
    "\n",
    "for index,(capas,activacion) in enumerate(redes_neuronales):\n",
    "\n",
    "    model,history,tiempo_entrenamiento=compile_fit(capas,x,y,activacion)\n",
    "    mse,coeficiente_determinacion=get_metricas_modelo(model,x.reshape(-1,1),y.reshape(-1,1))\n",
    "\n",
    "    resultados.append([str(index+1),str(capas),activacion,mse,coeficiente_determinacion,tiempo_entrenamiento])\n",
    "\n",
    "print(tabulate(resultados,headers=[\"Nombre\\nRed\",\"Capas\",\"Activación\",\"MSE\",\"R²\",\"Tiempo\\nEntrenamiento\"]))\n"
   ]
  },
  {
   "cell_type": "code",
   "execution_count": 11,
   "metadata": {},
   "outputs": [
    {
     "name": "stdout",
     "output_type": "stream",
     "text": [
      "  Nombre  Capas                             Activación                MSE               R²           Tiempo           MSE            R²\n",
      "     Red                                                    Entrenamiento    Entrenamiento    Entrenamiento    Validación    Validación\n",
      "--------  --------------------------------  ------------  ---------------  ---------------  ---------------  ------------  ------------\n",
      "       1  [5, 10, 3, 10, 1]                 relu                  718.298       0.748316            3.40629       862.985     0.567329\n",
      "       2  [5, 10, 3, 10, 1]                 selu                  717.653       0.748541            3.43374       798.624     0.599598\n",
      "       3  [5, 10, 3, 10, 1]                 tanh                 5941.53       -1.08185             3.46328      3753.3      -0.881774\n",
      "       4  [20, 40, 80, 40, 20, 1]           relu                  539.139       0.811091            3.83408       846.146     0.575772\n",
      "       5  [20, 40, 80, 40, 20, 1]           selu                  182.719       0.935977            3.67555      1051.1       0.473016\n",
      "       6  [20, 40, 80, 40, 20, 1]           tanh                 2883.8        -0.0104537           3.69688      2061.24     -0.0334357\n",
      "       7  [20, 40, 80, 160, 80, 40, 20, 1]  relu                  396.495       0.861072            4.29181       990.747     0.503274\n",
      "       8  [20, 40, 80, 160, 80, 40, 20, 1]  selu                  172.284       0.939634            4.41231       898.996     0.549275\n",
      "       9  [20, 40, 80, 160, 80, 40, 20, 1]  tanh                 2866.53       -0.00440395          4.28912      2096.22     -0.0509744\n"
     ]
    }
   ],
   "source": [
    "def get_datos_validacion():\n",
    "    datos_validacion=[[  1.22140488 , 59.35315077] , [  2.42834632 ,  3.50613409] , [  4.27529991 , 70.39938914] ,\n",
    "        [ 14.44651349 , 50.0606769 ] , [ 16.10795855 , 81.08562061] , [ 16.75024181 , 33.95365822] ,\n",
    "        [ 26.80487149 , 47.1495392 ] , [ 28.81517859 ,106.34919698] , [ 48.56698654 ,120.25398606] ,\n",
    "        [ 52.08015067 ,116.7993955 ] , [ 53.30646055 ,131.30936472] , [ 55.09968806 ,131.34281752] ,\n",
    "        [ 60.39615207 , 97.77483743] , [ 73.52487026 , 92.30645543] , [ 76.2771471  ,109.9995226 ] ,\n",
    "        [ 84.56808303 ,120.60657657] , [ 89.2700557  ,117.3687155 ] , [ 91.03720679 ,159.47376137] ,\n",
    "        [ 93.53406333 ,166.44439331] , [ 94.78103495 ,180.66942656]]\n",
    "    return datos_validacion\n",
    "\n",
    "datos_validacion=np.array(get_datos_validacion())\n",
    "x_validacion=datos_validacion[:,0]\n",
    "y_validacion=datos_validacion[:,1]\n",
    "\n",
    "\n",
    "resultados=[]\n",
    "\n",
    "for index,(capas,activacion) in enumerate(redes_neuronales):\n",
    "\n",
    "    model,history,tiempo_entrenamiento=compile_fit(capas,x,y,activacion)\n",
    "    mse_entrenamiento,coeficiente_determinacion_entrenamiento=get_metricas_modelo(model,x.reshape(-1,1),y.reshape(-1,1))\n",
    "    mse_validacion,coeficiente_determinacion_validacion=get_metricas_modelo(model,x_validacion.reshape(-1,1),y_validacion.reshape(-1,1))   \n",
    "\n",
    "    resultados.append([str(index+1),str(capas),activacion,mse_entrenamiento,coeficiente_determinacion_entrenamiento,tiempo_entrenamiento,mse_validacion,coeficiente_determinacion_validacion])\n",
    "\n",
    "print(tabulate(resultados,headers=[\"Nombre\\nRed\",\"Capas\",\"Activación\",\"MSE\\nEntrenamiento\",\"R²\\nEntrenamiento\",\"Tiempo\\nEntrenamiento\",\"MSE\\nValidación\",\"R²\\nValidación\"]))"
   ]
  },
  {
   "cell_type": "code",
   "execution_count": 1,
   "metadata": {},
   "outputs": [
    {
     "name": "stderr",
     "output_type": "stream",
     "text": [
      "2024-11-23 20:49:11.365554: E tensorflow/stream_executor/cuda/cuda_driver.cc:271] failed call to cuInit: CUDA_ERROR_UNKNOWN: unknown error\n",
      "2024-11-23 20:49:11.365577: I tensorflow/stream_executor/cuda/cuda_diagnostics.cc:169] retrieving CUDA diagnostic information for host: beren\n",
      "2024-11-23 20:49:11.365583: I tensorflow/stream_executor/cuda/cuda_diagnostics.cc:176] hostname: beren\n",
      "2024-11-23 20:49:11.365652: I tensorflow/stream_executor/cuda/cuda_diagnostics.cc:200] libcuda reported version is: 565.57.1\n",
      "2024-11-23 20:49:11.365670: I tensorflow/stream_executor/cuda/cuda_diagnostics.cc:204] kernel reported version is: 565.57.1\n",
      "2024-11-23 20:49:11.365674: I tensorflow/stream_executor/cuda/cuda_diagnostics.cc:310] kernel version seems to match DSO: 565.57.1\n",
      "2024-11-23 20:49:11.365840: I tensorflow/core/platform/cpu_feature_guard.cc:151] This TensorFlow binary is optimized with oneAPI Deep Neural Network Library (oneDNN) to use the following CPU instructions in performance-critical operations:  AVX2 FMA\n",
      "To enable them in other operations, rebuild TensorFlow with the appropriate compiler flags.\n"
     ]
    },
    {
     "name": "stdout",
     "output_type": "stream",
     "text": [
      "WARNING:tensorflow:5 out of the last 9 calls to <function Model.make_predict_function.<locals>.predict_function at 0x78031b595cf0> triggered tf.function retracing. Tracing is expensive and the excessive number of tracings could be due to (1) creating @tf.function repeatedly in a loop, (2) passing tensors with different shapes, (3) passing Python objects instead of tensors. For (1), please define your @tf.function outside of the loop. For (2), @tf.function has experimental_relax_shapes=True option that relaxes argument shapes that can avoid unnecessary retracing. For (3), please refer to https://www.tensorflow.org/guide/function#controlling_retracing and https://www.tensorflow.org/api_docs/python/tf/function for  more details.\n",
      "WARNING:tensorflow:6 out of the last 11 calls to <function Model.make_predict_function.<locals>.predict_function at 0x78031b597490> triggered tf.function retracing. Tracing is expensive and the excessive number of tracings could be due to (1) creating @tf.function repeatedly in a loop, (2) passing tensors with different shapes, (3) passing Python objects instead of tensors. For (1), please define your @tf.function outside of the loop. For (2), @tf.function has experimental_relax_shapes=True option that relaxes argument shapes that can avoid unnecessary retracing. For (3), please refer to https://www.tensorflow.org/guide/function#controlling_retracing and https://www.tensorflow.org/api_docs/python/tf/function for  more details.\n",
      "  Nombre  Capas                             Activación                MSE               R²           Tiempo           MSE            R²\n",
      "     Red                                                    Entrenamiento    Entrenamiento    Entrenamiento    Validación    Validación\n",
      "--------  --------------------------------  ------------  ---------------  ---------------  ---------------  ------------  ------------\n",
      "       1  [5, 10, 3, 10, 1]                 relu                  718.298       0.748316            3.60173       862.985     0.567329\n",
      "       2  [5, 10, 3, 10, 1]                 selu                  717.653       0.748541            3.52216       798.624     0.599598\n",
      "       3  [5, 10, 3, 10, 1]                 tanh                 5941.53       -1.08185             3.51282      3753.3      -0.881774\n",
      "       4  [20, 40, 80, 40, 20, 1]           relu                  539.139       0.811091            3.64414       846.146     0.575772\n",
      "       5  [20, 40, 80, 40, 20, 1]           selu                  182.719       0.935977            3.74829      1051.1       0.473016\n",
      "       6  [20, 40, 80, 40, 20, 1]           tanh                 2883.8        -0.0104537           3.71453      2061.24     -0.0334357\n",
      "       7  [20, 40, 80, 160, 80, 40, 20, 1]  relu                  396.495       0.861072            4.38418       990.747     0.503274\n",
      "       8  [20, 40, 80, 160, 80, 40, 20, 1]  selu                  172.284       0.939634            4.58468       898.996     0.549275\n",
      "       9  [20, 40, 80, 160, 80, 40, 20, 1]  tanh                 2866.53       -0.00440395          4.25971      2096.22     -0.0509744\n"
     ]
    }
   ],
   "source": [
    "import numpy as np\n",
    "import tensorflow as tf\n",
    "from keras.models import Sequential\n",
    "from keras.layers import Dense\n",
    "import random\n",
    "from tabulate import tabulate\n",
    "from time import perf_counter\n",
    "\n",
    "def get_datos():\n",
    "    datos=[[  2.01666708 ,  56.18031474], [  4.79734083 ,  47.18848199], [  9.23784581 ,  57.68974048], [ 14.11529384 ,  43.70348368],\n",
    "         [ 14.92688637 ,  59.10244323], [ 17.34408196 ,  65.96080804], [ 17.62435324 ,  45.74334603], [ 22.41875021 ,  13.575581  ],\n",
    "         [ 25.3139145  ,  68.43756969], [ 34.85886672 , 147.15375307], [ 38.87476262 ,  25.39687009], [ 42.01380169 ,  74.39010069],\n",
    "         [ 46.63551059 ,  98.93395801], [ 49.58578273 , 116.07013679], [ 50.18371003 , 138.55546747], [ 52.06630172 , 139.36601894],\n",
    "         [ 54.68810274 , 150.09622546], [ 57.13046193 , 156.14375739], [ 66.35609935 , 119.75844452], [ 69.05499042 , 139.08155228],\n",
    "         [ 69.51252436 , 128.72247348], [ 69.83788756 , 152.65110462], [ 79.76649746 , 148.23106977], [ 81.83730552 , 137.86314926],\n",
    "         [ 87.09879038 , 217.28932067], [ 89.00469759 , 168.64994509], [ 93.17139213 , 163.10598352], [ 93.66070686 , 200.47638924],\n",
    "         [ 94.1944751  , 150.44019156], [ 97.36920633 , 173.2055957 ]]\n",
    "\n",
    "    return datos\n",
    "\n",
    "def get_datos_validacion():\n",
    "    datos_validacion=[[  1.22140488 , 59.35315077] , [  2.42834632 ,  3.50613409] , [  4.27529991 , 70.39938914] ,\n",
    "        [ 14.44651349 , 50.0606769 ] , [ 16.10795855 , 81.08562061] , [ 16.75024181 , 33.95365822] ,\n",
    "        [ 26.80487149 , 47.1495392 ] , [ 28.81517859 ,106.34919698] , [ 48.56698654 ,120.25398606] ,\n",
    "        [ 52.08015067 ,116.7993955 ] , [ 53.30646055 ,131.30936472] , [ 55.09968806 ,131.34281752] ,\n",
    "        [ 60.39615207 , 97.77483743] , [ 73.52487026 , 92.30645543] , [ 76.2771471  ,109.9995226 ] ,\n",
    "        [ 84.56808303 ,120.60657657] , [ 89.2700557  ,117.3687155 ] , [ 91.03720679 ,159.47376137] ,\n",
    "        [ 93.53406333 ,166.44439331] , [ 94.78103495 ,180.66942656]]\n",
    "    return datos_validacion\n",
    "\n",
    "def compile_fit(capas,x,y,activation):\n",
    "    np.random.seed(5)\n",
    "    tf.random.set_seed(5)\n",
    "    random.seed(5)  \n",
    "    \n",
    "    model=Sequential()\n",
    "    for index,neuronas_capa in enumerate(capas):\n",
    "        if (index==0):\n",
    "            model.add(Dense(neuronas_capa, activation=activation,input_dim=1))\n",
    "        elif (index==len(capas)-1):\n",
    "            model.add(Dense(neuronas_capa, activation='linear'))\n",
    "        else:\n",
    "            model.add(Dense(neuronas_capa, activation=activation))\n",
    "    model.compile(loss='mean_squared_error')\n",
    "    \n",
    "    tiempo_entrenamiento = perf_counter()\n",
    "    history=model.fit(x, y,epochs=5000,verbose=False) \n",
    "    tiempo_entrenamiento=perf_counter()-tiempo_entrenamiento\n",
    "\n",
    "    return model,history,tiempo_entrenamiento\n",
    "\n",
    "def get_mse(y_true,y_pred):\n",
    "    y_error=(y_true-y_pred)**2\n",
    "    mse=np.sum(y_error)/np.size(y_error)\n",
    "\n",
    "    return mse\n",
    "\n",
    "def get_coeficiente_determinacion(y_true,y_pred):\n",
    "    media_valores_verdaderos=np.sum(y_true)/np.size(y_true)\n",
    "    suma_errores=np.sum((y_true-y_pred)**2)\n",
    "    suma_valores_media=np.sum((y_true-media_valores_verdaderos)**2)\n",
    "    coeficiente_determinacion=1-(suma_errores/suma_valores_media)\n",
    "\n",
    "    return coeficiente_determinacion\n",
    "\n",
    "\n",
    "def get_metricas_modelo(model,x,y_true):\n",
    "    y_pred=model.predict(x)\n",
    "    mse=get_mse(y_true,y_pred)\n",
    "    coeficiente_determinacion=get_coeficiente_determinacion(y_true,y_pred)\n",
    "\n",
    "    return mse,coeficiente_determinacion\n",
    "\n",
    "\n",
    "datos=np.array(get_datos())\n",
    "x=datos[:,0]\n",
    "y=datos[:,1]\n",
    "\n",
    "datos_validacion=np.array(get_datos_validacion())\n",
    "x_validacion=datos_validacion[:,0]\n",
    "y_validacion=datos_validacion[:,1]\n",
    "\n",
    "\n",
    "redes_neuronales=[\n",
    "    [[5,10,3,10,1],\"relu\"],\n",
    "    [[5,10,3,10,1],\"selu\"],\n",
    "    [[5,10,3,10,1],\"tanh\"],    \n",
    "    [[20,40,80,40,20,1],\"relu\"],\n",
    "    [[20,40,80,40,20,1],\"selu\"],\n",
    "    [[20,40,80,40,20,1],\"tanh\"],\n",
    "    [[20,40,80,160,80,40,20,1],\"relu\"],\n",
    "    [[20,40,80,160,80,40,20,1],\"selu\"],\n",
    "    [[20,40,80,160,80,40,20,1],\"tanh\"]                           \n",
    "]\n",
    "\n",
    "\n",
    "resultados=[]\n",
    "\n",
    "for index,(capas,activacion) in enumerate(redes_neuronales):\n",
    "\n",
    "    model,history,tiempo_entrenamiento=compile_fit(capas,x,y,activacion)\n",
    "    mse_entrenamiento,coeficiente_determinacion_entrenamiento=get_metricas_modelo(model,x.reshape(-1,1),y.reshape(-1,1))\n",
    "    mse_validacion,coeficiente_determinacion_validacion=get_metricas_modelo(model,x_validacion.reshape(-1,1),y_validacion.reshape(-1,1))   \n",
    "\n",
    "    resultados.append([str(index+1),str(capas),activacion,mse_entrenamiento,coeficiente_determinacion_entrenamiento,tiempo_entrenamiento,mse_validacion,coeficiente_determinacion_validacion])\n",
    "\n",
    "print(tabulate(resultados,headers=[\"Nombre\\nRed\",\"Capas\",\"Activación\",\"MSE\\nEntrenamiento\",\"R²\\nEntrenamiento\",\"Tiempo\\nEntrenamiento\",\"MSE\\nValidación\",\"R²\\nValidación\"]))"
   ]
  }
 ],
 "metadata": {
  "kernelspec": {
   "display_name": ".venv",
   "language": "python",
   "name": "python3"
  },
  "language_info": {
   "codemirror_mode": {
    "name": "ipython",
    "version": 3
   },
   "file_extension": ".py",
   "mimetype": "text/x-python",
   "name": "python",
   "nbconvert_exporter": "python",
   "pygments_lexer": "ipython3",
   "version": "3.10.12"
  }
 },
 "nbformat": 4,
 "nbformat_minor": 2
}
