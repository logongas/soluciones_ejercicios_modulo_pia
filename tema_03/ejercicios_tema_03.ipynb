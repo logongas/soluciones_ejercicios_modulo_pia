{
 "cells": [
  {
   "cell_type": "code",
   "execution_count": 33,
   "metadata": {},
   "outputs": [
    {
     "name": "stdout",
     "output_type": "stream",
     "text": [
      "29\n",
      "5\n",
      "[29  5]\n",
      "[ 3  5  7 11]\n",
      "[ 3 11]\n",
      "[29 23]\n"
     ]
    }
   ],
   "source": [
    "#Ejercicio 1\n",
    "import numpy as np\n",
    "\n",
    "a=np.array([2, 3, 5, 7, 11, 13, 17, 19, 23, 29])\n",
    "\n",
    "print(a[-1])\n",
    "print(a[2])\n",
    "print(a[ [-1,2] ])\n",
    "print(a[1:5])\n",
    "print(a[ [1,4] ])\n",
    "print(a[ [-1,-2] ])"
   ]
  },
  {
   "cell_type": "code",
   "execution_count": 1,
   "metadata": {},
   "outputs": [
    {
     "name": "stdout",
     "output_type": "stream",
     "text": [
      "[100 101 102 103 104 105 106 107 108 109 110 111 112 113 114 115 116 117\n",
      " 118 119 120 121 122 123 124 125 126 127 128 129 130 131 132 133 134 135\n",
      " 136 137 138 139 140 141 142 143 144 145 146 147 148 149 150 151 152 153\n",
      " 154 155 156 157 158 159 160 161 162 163 164 165 166 167 168 169 170 171\n",
      " 172 173 174 175 176 177 178 179 180 181 182 183 184 185 186 187 188 189\n",
      " 190 191 192 193 194 195 196 197 198 199]\n",
      "range(100, 200)\n",
      "[100 101 102 103 104 105 106 107 108 109 110 111 112 113 114 115 116 117\n",
      " 118 119 120 121 122 123 124 125 126 127 128 129 130 131 132 133 134 135\n",
      " 136 137 138 139 140 141 142 143 144 145 146 147 148 149 150 151 152 153\n",
      " 154 155 156 157 158 159 160 161 162 163 164 165 166 167 168 169 170 171\n",
      " 172 173 174 175 176 177 178 179 180 181 182 183 184 185 186 187 188 189\n",
      " 190 191 192 193 194 195 196 197 198 199]\n"
     ]
    }
   ],
   "source": [
    "#Ejercicio 2\n",
    "import numpy as np\n",
    "\n",
    "a=np.array([10,20,30,40,50],dtype=np.float32)\n",
    "print(np.arange(100,200))\n",
    "print(range(100,200))\n",
    "print(np.array(range(100,200)))"
   ]
  },
  {
   "cell_type": "code",
   "execution_count": 19,
   "metadata": {},
   "outputs": [
    {
     "name": "stdout",
     "output_type": "stream",
     "text": [
      "7\n",
      "[2 9 1 2]\n",
      "[4 1 9 3]\n",
      "[[4 6]\n",
      " [1 7]\n",
      " [9 1]\n",
      " [3 1]]\n",
      "[[4 1 7 3]\n",
      " [2 9 1 2]]\n",
      "[5 3 2 1]\n",
      "----\n",
      "[[4 6]\n",
      " [9 1]]\n",
      "----\n",
      "[[4 6]\n",
      " [1 7]\n",
      " [9 1]]\n",
      "[[4 6]\n",
      " [1 7]\n",
      " [9 1]\n",
      " [3 1]]\n",
      "[[4 1 7 3]\n",
      " [2 9 1 2]]\n",
      "[[1 7]\n",
      " [9 1]]\n",
      "  A    B    C    D\n",
      "---  ---  ---  ---\n",
      "  1    4    6    5\n",
      "  4    1    7    3\n",
      "  2    9    1    2\n",
      "  6    3    1    1\n"
     ]
    }
   ],
   "source": [
    "#Ejercicio 3\n",
    "import numpy as np\n",
    "from tabulate import tabulate\n",
    "\n",
    "a=np.array([[1,4,6,5],[4,1,7,3],[2,9,1,2],[6,3,1,1]])\n",
    "\n",
    "print(a[1,2])\n",
    "print(a[2])\n",
    "print(a[:,1])\n",
    "print(a[:,[1,2]])\n",
    "print(a[[1,2],:])\n",
    "print(a[:,-1])\n",
    "print(\"----\")\n",
    "print(a[ [ 0,2 ], [ [1],[2] ] ].T)\n",
    "print(\"----\")\n",
    "print(a[0:3,1:3])\n",
    "print(a[:,1:-1])\n",
    "print(a[1:-1,:])\n",
    "print(a[1:-1,1:-1])\n",
    "print(tabulate(a, headers=[\"A\", \"B\", \"C\",\"D\"]))"
   ]
  },
  {
   "cell_type": "code",
   "execution_count": 1,
   "metadata": {},
   "outputs": [
    {
     "name": "stdout",
     "output_type": "stream",
     "text": [
      "[23.6 26.  25.9 22.8]\n",
      "[10.2 10.7 10.8]\n",
      "[10.2 10.7 23.6 26.  25.9 22.8 10.8]\n"
     ]
    }
   ],
   "source": [
    "#Ejercicio 4\n",
    "import numpy as np\n",
    "\n",
    "a=np.array([10.2, 10.7, 13.3, 15.8, 19.3, 23.6, 26, 25.9, 22.8, 19.1, 13.9, 10.8 ])\n",
    "\n",
    "print(a[a>20])\n",
    "print(a[a<11])\n",
    "print(a[(a>20) | (a<11)])\n"
   ]
  },
  {
   "cell_type": "code",
   "execution_count": 5,
   "metadata": {},
   "outputs": [],
   "source": [
    "#Ejercicio 5\n",
    "import numpy as np\n",
    "from sklearn.datasets import load_iris\n",
    "datos=load_iris().data\n",
    "resultado=load_iris().target\n",
    "\n",
    "sepal_length=datos[0:99,0]\n",
    "petal_length=datos[0:99,2]\n",
    "x=np.column_stack((sepal_length,petal_length))\n",
    "y=resultado[0:99]"
   ]
  },
  {
   "cell_type": "code",
   "execution_count": 28,
   "metadata": {},
   "outputs": [],
   "source": [
    "#Ejercicio 6\n",
    "import numpy as np\n",
    "from sklearn.datasets import load_iris\n",
    "datos=load_iris().data\n",
    "resultado=load_iris().target\n",
    "\n",
    "x=datos[0:99,[0,2]]\n",
    "y=resultado[0:99]"
   ]
  },
  {
   "cell_type": "code",
   "execution_count": null,
   "metadata": {},
   "outputs": [],
   "source": [
    "#Ejercicio 7\n",
    "#a[2:5,2:6]"
   ]
  },
  {
   "cell_type": "code",
   "execution_count": null,
   "metadata": {},
   "outputs": [],
   "source": [
    "#Ejercicio 8\n",
    "#a[2:5,2:6,:]"
   ]
  },
  {
   "cell_type": "code",
   "execution_count": 5,
   "metadata": {},
   "outputs": [
    {
     "name": "stdout",
     "output_type": "stream",
     "text": [
      "[[11 14 16 15]\n",
      " [14 11 17 13]\n",
      " [12 19 11 12]\n",
      " [16 13 11 11]]\n",
      "[[5.5 7.  8.  7.5]\n",
      " [7.  5.5 8.5 6.5]\n",
      " [6.  9.5 5.5 6. ]\n",
      " [8.  6.5 5.5 5.5]]\n",
      "[[11 14 16 15]\n",
      " [14 11 17 13]\n",
      " [12 19 11 12]\n",
      " [16 13 11 11]]\n",
      "[[5.5 7.  8.  7.5]\n",
      " [7.  5.5 8.5 6.5]\n",
      " [6.  9.5 5.5 6. ]\n",
      " [8.  6.5 5.5 5.5]]\n"
     ]
    }
   ],
   "source": [
    "#Ejercicio 9\n",
    "import numpy as np\n",
    "a=np.array([[1,4,6,5],[4,1,7,3],[2,9,1,2],[6,3,1,1]])\n",
    "\n",
    "print(np.add(a,10))\n",
    "print(np.divide(np.add(a,10),2))\n",
    "print(a+10)\n",
    "print((a+10)/2)"
   ]
  },
  {
   "cell_type": "code",
   "execution_count": 23,
   "metadata": {},
   "outputs": [
    {
     "name": "stdout",
     "output_type": "stream",
     "text": [
      "[[ 1  4  9]\n",
      " [16 25 36]\n",
      " [49 64 81]]\n",
      "[[ 30  36  42]\n",
      " [ 66  81  96]\n",
      " [102 126 150]]\n"
     ]
    }
   ],
   "source": [
    "#Ejercicio 10\n",
    "import numpy as np\n",
    "\n",
    "a=np.array([[1,2,3],[4,5,6],[7,8,9]])\n",
    "print(a*a)\n",
    "print(a@a)"
   ]
  },
  {
   "cell_type": "code",
   "execution_count": 25,
   "metadata": {},
   "outputs": [
    {
     "data": {
      "text/plain": [
       "array([ 3, 11,  9, 15,  7, 19, 17, 13])"
      ]
     },
     "execution_count": 25,
     "metadata": {},
     "output_type": "execute_result"
    }
   ],
   "source": [
    "#Ejercicio 11\n",
    "import numpy as np\n",
    "\n",
    "def f(x):\n",
    "    return (x*2)+1\n",
    "\n",
    "\n",
    "a=np.array([1,5,4,7,3,9,8,6])\n",
    "f(a)"
   ]
  },
  {
   "cell_type": "code",
   "execution_count": 31,
   "metadata": {},
   "outputs": [
    {
     "data": {
      "text/plain": [
       "array([ 0,  5,  4,  8,  4, 10,  8,  6])"
      ]
     },
     "execution_count": 31,
     "metadata": {},
     "output_type": "execute_result"
    }
   ],
   "source": [
    "#Ejercicio 12\n",
    "import numpy as np\n",
    "\n",
    "def f(x):\n",
    "    if x<3:\n",
    "        return 0\n",
    "    elif (x>=3) & (x<5):\n",
    "        return 4\n",
    "    elif (x>=5) & (x<6):\n",
    "        return 5\n",
    "    elif (x>=6) & (x<7):\n",
    "        return 6\n",
    "    elif (x>=6) & (x<7):\n",
    "        return 6\n",
    "    elif (x>=7) & (x<9):\n",
    "        return 8   \n",
    "    elif (x>=9):\n",
    "        return 10\n",
    "    else:\n",
    "        raise Exception(\"Error de lógica\"+str(x))\n",
    "              \n",
    "\n",
    "a=np.array([1,5,4,7,3,9,8,6])\n",
    "np.array([f(x) for x in a])"
   ]
  },
  {
   "cell_type": "code",
   "execution_count": 39,
   "metadata": {},
   "outputs": [
    {
     "name": "stdout",
     "output_type": "stream",
     "text": [
      "Nº Máximo de neuronas que llegó a haber en cualquier red: 128\n",
      "Nº máximo de neuronas que hubo en cada red: [  8   8  16  16  32  32  64  64 128 128]\n",
      "Nº máximo de neuronas que hubo en cada capa: [ 64 128  64   8   1]\n",
      "Nº máximo de neuronas que hubo en la 3º red: 16\n",
      "Nº máximo de neuronas que hubo en la 3º capa: 64\n"
     ]
    }
   ],
   "source": [
    "#Ejercicio 13\n",
    "import numpy as np\n",
    "\n",
    "redes=np.array([\n",
    "    [4,  8,   4,  2, 1], \n",
    "    [4,  8,   4,  2, 1], \n",
    "    [8,  16,  8,  4, 1], \n",
    "    [8,  16,  8,  4, 1], \n",
    "    [16, 32,  16, 8, 1], \n",
    "    [16, 32,  16, 8, 1], \n",
    "    [32, 64,  32, 8, 1], \n",
    "    [32, 64,  32, 8, 1], \n",
    "    [64, 128, 64, 8, 1], \n",
    "    [64, 128, 64, 8, 1]\n",
    "])\n",
    "\n",
    "print(\"Nº Máximo de neuronas que llegó a haber en cualquier red:\",np.max(redes))\n",
    "print(\"Nº máximo de neuronas que hubo en cada red:\",np.max(redes,axis=1))\n",
    "print(\"Nº máximo de neuronas que hubo en cada capa:\",np.max(redes,axis=0))\n",
    "print(\"Nº máximo de neuronas que hubo en la 3º red:\",np.max(redes[2]))\n",
    "print(\"Nº máximo de neuronas que hubo en la 3º capa:\",np.max(redes[:,2]))"
   ]
  },
  {
   "cell_type": "code",
   "execution_count": 41,
   "metadata": {},
   "outputs": [
    {
     "name": "stdout",
     "output_type": "stream",
     "text": [
      "[0 1 2]\n",
      "[0 1]\n"
     ]
    }
   ],
   "source": [
    "#Ejercicio 14\n",
    "import numpy as np\n",
    "from sklearn.datasets import load_iris\n",
    "from sklearn.datasets import load_breast_cancer\n",
    " \n",
    "\n",
    "print(np.unique(load_iris().target))\n",
    "print(np.unique(load_breast_cancer().target))\n"
   ]
  },
  {
   "cell_type": "code",
   "execution_count": 22,
   "metadata": {},
   "outputs": [
    {
     "name": "stdout",
     "output_type": "stream",
     "text": [
      "1\n",
      "2\n",
      "3\n"
     ]
    }
   ],
   "source": [
    "#Ejercicio 15\n",
    "a=np.array([2, 3, 5, 7, 11, 13, 17, 19, 23, 29, 31, 37])\n",
    "b=np.array([[2, 3], [5, 7], [11, 13], [17, 19], [23, 29], [31, 37]])\n",
    "c=np.array([[[2, 3], [5, 7]], [[11, 13], [17, 19]], [[23, 29], [31, 37]]])\n",
    "\n",
    "print(a.ndim)\n",
    "print(b.ndim)\n",
    "print(c.ndim)"
   ]
  },
  {
   "cell_type": "code",
   "execution_count": 25,
   "metadata": {},
   "outputs": [
    {
     "name": "stdout",
     "output_type": "stream",
     "text": [
      "----------\n",
      "El nº de elementos de la dimension  0  es: 3\n",
      "El nº de elementos de la dimension  1  es: 2\n",
      "El nº de elementos de la dimension  2  es: 2\n",
      "----------\n",
      "El nº de elementos de la dimension  0  es: 12\n",
      "----------\n",
      "El nº de elementos de la dimension  0  es: 6\n",
      "El nº de elementos de la dimension  1  es: 2\n",
      "----------\n",
      "El nº de elementos de la dimension  0  es: 3\n",
      "El nº de elementos de la dimension  1  es: 2\n",
      "El nº de elementos de la dimension  2  es: 2\n"
     ]
    }
   ],
   "source": [
    "#Ejercicio 16\n",
    "def mostrar_tamanyo(array):\n",
    "    print(\"----------\")\n",
    "    for dimension,num_elementos in enumerate(array.shape):\n",
    "        print(\"El nº de elementos de la dimension \", dimension, \" es:\",num_elementos)\n",
    "\n",
    "array=np.array([ [ [2, 3], [5, 7]], [ [11, 13], [17, 19]], [ [23, 29], [31, 37] ] ] )\n",
    "\n",
    "mostrar_tamanyo(array)\n",
    "\n",
    "\n",
    "a=np.array([2, 3, 5, 7, 11, 13, 17, 19, 23, 29, 31, 37])\n",
    "b=np.array([[2, 3], [5, 7], [11, 13], [17, 19], [23, 29], [31, 37]])\n",
    "c=np.array([[[2, 3], [5, 7]], [[11, 13], [17, 19]], [[23, 29], [31, 37]]])\n",
    "\n",
    "mostrar_tamanyo(a)\n",
    "mostrar_tamanyo(b)\n",
    "mostrar_tamanyo(c)\n"
   ]
  },
  {
   "cell_type": "code",
   "execution_count": 15,
   "metadata": {},
   "outputs": [
    {
     "name": "stdout",
     "output_type": "stream",
     "text": [
      "int64\n",
      "float64\n",
      "float64\n"
     ]
    }
   ],
   "source": [
    "#Ejercicio 17\n",
    "\n",
    "\n",
    "a=np.array([2, 3, 5])\n",
    "print(a.dtype)\n",
    "\n",
    "b=np.array([2.4, 3.2, 5.6])\n",
    "print(b.dtype)\n",
    "\n",
    "c=np.array([2, 3, 5.6])\n",
    "print(c.dtype)\n",
    "\n",
    "\n",
    "\n"
   ]
  },
  {
   "cell_type": "code",
   "execution_count": 21,
   "metadata": {},
   "outputs": [
    {
     "name": "stdout",
     "output_type": "stream",
     "text": [
      "3\n",
      "3\n",
      "3\n",
      "3\n",
      "12\n",
      "12\n"
     ]
    }
   ],
   "source": [
    "#Ejercicio 18\n",
    "\n",
    "b=np.array([1, -2, 3]).astype(np.uint8)\n",
    "print(b.nbytes)\n",
    "\n",
    "b=np.array([1,254,255]).astype(np.uint8)\n",
    "print(b.nbytes)\n",
    "\n",
    "b=np.array([1,127,128]).astype(np.int8)\n",
    "print(b.nbytes)\n",
    "\n",
    "b=np.array([1,-128,-129]).astype(np.int8)\n",
    "print(b.nbytes)\n",
    "\n",
    "b=np.array([1,2,3]).astype(np.float32)\n",
    "print(b.nbytes)\n",
    "\n",
    "b=np.array([1.9,2.01,3.51]).astype(np.int32)\n",
    "print(b.nbytes)\n",
    "\n"
   ]
  },
  {
   "cell_type": "code",
   "execution_count": 24,
   "metadata": {},
   "outputs": [
    {
     "name": "stdout",
     "output_type": "stream",
     "text": [
      "[[5.1 3.5 1.4 0.2 0. ]\n",
      " [4.9 3.  1.4 0.2 0. ]\n",
      " [4.7 3.2 1.3 0.2 0. ]\n",
      " [4.6 3.1 1.5 0.2 0. ]\n",
      " [5.  3.6 1.4 0.2 0. ]\n",
      " [5.4 3.9 1.7 0.4 0. ]\n",
      " [4.6 3.4 1.4 0.3 0. ]\n",
      " [5.  3.4 1.5 0.2 0. ]\n",
      " [4.4 2.9 1.4 0.2 0. ]\n",
      " [4.9 3.1 1.5 0.1 0. ]\n",
      " [5.4 3.7 1.5 0.2 0. ]\n",
      " [4.8 3.4 1.6 0.2 0. ]\n",
      " [4.8 3.  1.4 0.1 0. ]\n",
      " [4.3 3.  1.1 0.1 0. ]\n",
      " [5.8 4.  1.2 0.2 0. ]\n",
      " [5.7 4.4 1.5 0.4 0. ]\n",
      " [5.4 3.9 1.3 0.4 0. ]\n",
      " [5.1 3.5 1.4 0.3 0. ]\n",
      " [5.7 3.8 1.7 0.3 0. ]\n",
      " [5.1 3.8 1.5 0.3 0. ]\n",
      " [5.4 3.4 1.7 0.2 0. ]\n",
      " [5.1 3.7 1.5 0.4 0. ]\n",
      " [4.6 3.6 1.  0.2 0. ]\n",
      " [5.1 3.3 1.7 0.5 0. ]\n",
      " [4.8 3.4 1.9 0.2 0. ]\n",
      " [5.  3.  1.6 0.2 0. ]\n",
      " [5.  3.4 1.6 0.4 0. ]\n",
      " [5.2 3.5 1.5 0.2 0. ]\n",
      " [5.2 3.4 1.4 0.2 0. ]\n",
      " [4.7 3.2 1.6 0.2 0. ]\n",
      " [4.8 3.1 1.6 0.2 0. ]\n",
      " [5.4 3.4 1.5 0.4 0. ]\n",
      " [5.2 4.1 1.5 0.1 0. ]\n",
      " [5.5 4.2 1.4 0.2 0. ]\n",
      " [4.9 3.1 1.5 0.2 0. ]\n",
      " [5.  3.2 1.2 0.2 0. ]\n",
      " [5.5 3.5 1.3 0.2 0. ]\n",
      " [4.9 3.6 1.4 0.1 0. ]\n",
      " [4.4 3.  1.3 0.2 0. ]\n",
      " [5.1 3.4 1.5 0.2 0. ]\n",
      " [5.  3.5 1.3 0.3 0. ]\n",
      " [4.5 2.3 1.3 0.3 0. ]\n",
      " [4.4 3.2 1.3 0.2 0. ]\n",
      " [5.  3.5 1.6 0.6 0. ]\n",
      " [5.1 3.8 1.9 0.4 0. ]\n",
      " [4.8 3.  1.4 0.3 0. ]\n",
      " [5.1 3.8 1.6 0.2 0. ]\n",
      " [4.6 3.2 1.4 0.2 0. ]\n",
      " [5.3 3.7 1.5 0.2 0. ]\n",
      " [5.  3.3 1.4 0.2 0. ]\n",
      " [7.  3.2 4.7 1.4 1. ]\n",
      " [6.4 3.2 4.5 1.5 1. ]\n",
      " [6.9 3.1 4.9 1.5 1. ]\n",
      " [5.5 2.3 4.  1.3 1. ]\n",
      " [6.5 2.8 4.6 1.5 1. ]\n",
      " [5.7 2.8 4.5 1.3 1. ]\n",
      " [6.3 3.3 4.7 1.6 1. ]\n",
      " [4.9 2.4 3.3 1.  1. ]\n",
      " [6.6 2.9 4.6 1.3 1. ]\n",
      " [5.2 2.7 3.9 1.4 1. ]\n",
      " [5.  2.  3.5 1.  1. ]\n",
      " [5.9 3.  4.2 1.5 1. ]\n",
      " [6.  2.2 4.  1.  1. ]\n",
      " [6.1 2.9 4.7 1.4 1. ]\n",
      " [5.6 2.9 3.6 1.3 1. ]\n",
      " [6.7 3.1 4.4 1.4 1. ]\n",
      " [5.6 3.  4.5 1.5 1. ]\n",
      " [5.8 2.7 4.1 1.  1. ]\n",
      " [6.2 2.2 4.5 1.5 1. ]\n",
      " [5.6 2.5 3.9 1.1 1. ]\n",
      " [5.9 3.2 4.8 1.8 1. ]\n",
      " [6.1 2.8 4.  1.3 1. ]\n",
      " [6.3 2.5 4.9 1.5 1. ]\n",
      " [6.1 2.8 4.7 1.2 1. ]\n",
      " [6.4 2.9 4.3 1.3 1. ]\n",
      " [6.6 3.  4.4 1.4 1. ]\n",
      " [6.8 2.8 4.8 1.4 1. ]\n",
      " [6.7 3.  5.  1.7 1. ]\n",
      " [6.  2.9 4.5 1.5 1. ]\n",
      " [5.7 2.6 3.5 1.  1. ]\n",
      " [5.5 2.4 3.8 1.1 1. ]\n",
      " [5.5 2.4 3.7 1.  1. ]\n",
      " [5.8 2.7 3.9 1.2 1. ]\n",
      " [6.  2.7 5.1 1.6 1. ]\n",
      " [5.4 3.  4.5 1.5 1. ]\n",
      " [6.  3.4 4.5 1.6 1. ]\n",
      " [6.7 3.1 4.7 1.5 1. ]\n",
      " [6.3 2.3 4.4 1.3 1. ]\n",
      " [5.6 3.  4.1 1.3 1. ]\n",
      " [5.5 2.5 4.  1.3 1. ]\n",
      " [5.5 2.6 4.4 1.2 1. ]\n",
      " [6.1 3.  4.6 1.4 1. ]\n",
      " [5.8 2.6 4.  1.2 1. ]\n",
      " [5.  2.3 3.3 1.  1. ]\n",
      " [5.6 2.7 4.2 1.3 1. ]\n",
      " [5.7 3.  4.2 1.2 1. ]\n",
      " [5.7 2.9 4.2 1.3 1. ]\n",
      " [6.2 2.9 4.3 1.3 1. ]\n",
      " [5.1 2.5 3.  1.1 1. ]\n",
      " [5.7 2.8 4.1 1.3 1. ]\n",
      " [6.3 3.3 6.  2.5 2. ]\n",
      " [5.8 2.7 5.1 1.9 2. ]\n",
      " [7.1 3.  5.9 2.1 2. ]\n",
      " [6.3 2.9 5.6 1.8 2. ]\n",
      " [6.5 3.  5.8 2.2 2. ]\n",
      " [7.6 3.  6.6 2.1 2. ]\n",
      " [4.9 2.5 4.5 1.7 2. ]\n",
      " [7.3 2.9 6.3 1.8 2. ]\n",
      " [6.7 2.5 5.8 1.8 2. ]\n",
      " [7.2 3.6 6.1 2.5 2. ]\n",
      " [6.5 3.2 5.1 2.  2. ]\n",
      " [6.4 2.7 5.3 1.9 2. ]\n",
      " [6.8 3.  5.5 2.1 2. ]\n",
      " [5.7 2.5 5.  2.  2. ]\n",
      " [5.8 2.8 5.1 2.4 2. ]\n",
      " [6.4 3.2 5.3 2.3 2. ]\n",
      " [6.5 3.  5.5 1.8 2. ]\n",
      " [7.7 3.8 6.7 2.2 2. ]\n",
      " [7.7 2.6 6.9 2.3 2. ]\n",
      " [6.  2.2 5.  1.5 2. ]\n",
      " [6.9 3.2 5.7 2.3 2. ]\n",
      " [5.6 2.8 4.9 2.  2. ]\n",
      " [7.7 2.8 6.7 2.  2. ]\n",
      " [6.3 2.7 4.9 1.8 2. ]\n",
      " [6.7 3.3 5.7 2.1 2. ]\n",
      " [7.2 3.2 6.  1.8 2. ]\n",
      " [6.2 2.8 4.8 1.8 2. ]\n",
      " [6.1 3.  4.9 1.8 2. ]\n",
      " [6.4 2.8 5.6 2.1 2. ]\n",
      " [7.2 3.  5.8 1.6 2. ]\n",
      " [7.4 2.8 6.1 1.9 2. ]\n",
      " [7.9 3.8 6.4 2.  2. ]\n",
      " [6.4 2.8 5.6 2.2 2. ]\n",
      " [6.3 2.8 5.1 1.5 2. ]\n",
      " [6.1 2.6 5.6 1.4 2. ]\n",
      " [7.7 3.  6.1 2.3 2. ]\n",
      " [6.3 3.4 5.6 2.4 2. ]\n",
      " [6.4 3.1 5.5 1.8 2. ]\n",
      " [6.  3.  4.8 1.8 2. ]\n",
      " [6.9 3.1 5.4 2.1 2. ]\n",
      " [6.7 3.1 5.6 2.4 2. ]\n",
      " [6.9 3.1 5.1 2.3 2. ]\n",
      " [5.8 2.7 5.1 1.9 2. ]\n",
      " [6.8 3.2 5.9 2.3 2. ]\n",
      " [6.7 3.3 5.7 2.5 2. ]\n",
      " [6.7 3.  5.2 2.3 2. ]\n",
      " [6.3 2.5 5.  1.9 2. ]\n",
      " [6.5 3.  5.2 2.  2. ]\n",
      " [6.2 3.4 5.4 2.3 2. ]\n",
      " [5.9 3.  5.1 1.8 2. ]]\n",
      "[[1.799e+01 1.038e+01 1.228e+02 ... 4.601e-01 1.189e-01 0.000e+00]\n",
      " [2.057e+01 1.777e+01 1.329e+02 ... 2.750e-01 8.902e-02 0.000e+00]\n",
      " [1.969e+01 2.125e+01 1.300e+02 ... 3.613e-01 8.758e-02 0.000e+00]\n",
      " ...\n",
      " [1.660e+01 2.808e+01 1.083e+02 ... 2.218e-01 7.820e-02 0.000e+00]\n",
      " [2.060e+01 2.933e+01 1.401e+02 ... 4.087e-01 1.240e-01 0.000e+00]\n",
      " [7.760e+00 2.454e+01 4.792e+01 ... 2.871e-01 7.039e-02 1.000e+00]]\n"
     ]
    }
   ],
   "source": [
    "#Ejercicio 19\n",
    "import numpy as np\n",
    "from sklearn.datasets import load_iris\n",
    "from sklearn.datasets import load_breast_cancer\n",
    " \n",
    "\n",
    "x=load_iris().data\n",
    "y=load_iris().target\n",
    "union=np.column_stack((x,y))\n",
    "print(union)\n",
    "\n",
    "x=load_breast_cancer().data\n",
    "y=load_breast_cancer().target\n",
    "union=np.column_stack((x,y))\n",
    "print(union)\n",
    "\n",
    "\n"
   ]
  },
  {
   "cell_type": "code",
   "execution_count": 38,
   "metadata": {},
   "outputs": [
    {
     "name": "stderr",
     "output_type": "stream",
     "text": [
      "Clipping input data to the valid range for imshow with RGB data ([0..1] for floats or [0..255] for integers).\n",
      "Clipping input data to the valid range for imshow with RGB data ([0..1] for floats or [0..255] for integers).\n"
     ]
    },
    {
     "name": "stdout",
     "output_type": "stream",
     "text": [
      "----------\n",
      "El nº de elementos de la dimension  0  es: 3813\n",
      "float64\n",
      "30504\n",
      "3813\n",
      "Rojo: 255\n",
      "Verde: 255\n",
      "Azul: 255\n"
     ]
    },
    {
     "data": {
      "text/plain": [
       "<matplotlib.image.AxesImage at 0x7fc19d580f40>"
      ]
     },
     "execution_count": 38,
     "metadata": {},
     "output_type": "execute_result"
    },
    {
     "data": {
      "image/png": "[encoded data removed]",
      "text/plain": [
       "<Figure size 432x288 with 1 Axes>"
      ]
     },
     "metadata": {
      "needs_background": "light"
     },
     "output_type": "display_data"
    },
    {
     "data": {
      "image/png": "[encoded data removed]",
      "text/plain": [
       "<Figure size 432x288 with 1 Axes>"
      ]
     },
     "metadata": {
      "needs_background": "light"
     },
     "output_type": "display_data"
    },
    {
     "data": {
      "image/png": "[encoded data removed]",
      "text/plain": [
       "<Figure size 432x288 with 1 Axes>"
      ]
     },
     "metadata": {
      "needs_background": "light"
     },
     "output_type": "display_data"
    },
    {
     "data": {
      "image/png": "[encoded data removed]",
      "text/plain": [
       "<Figure size 432x288 with 1 Axes>"
      ]
     },
     "metadata": {
      "needs_background": "light"
     },
     "output_type": "display_data"
    },
    {
     "data": {
      "image/png": "[encoded data removed]",
      "text/plain": [
       "<Figure size 432x288 with 1 Axes>"
      ]
     },
     "metadata": {
      "needs_background": "light"
     },
     "output_type": "display_data"
    },
    {
     "data": {
      "image/png": "[encoded data removed]",
      "text/plain": [
       "<Figure size 432x288 with 1 Axes>"
      ]
     },
     "metadata": {
      "needs_background": "light"
     },
     "output_type": "display_data"
    },
    {
     "data": {
      "image/png": "[encoded data removed]",
      "text/plain": [
       "<Figure size 432x288 with 1 Axes>"
      ]
     },
     "metadata": {
      "needs_background": "light"
     },
     "output_type": "display_data"
    }
   ],
   "source": [
    "#Ejercicio 20\n",
    "import numpy as np\n",
    "import matplotlib.pyplot as plt\n",
    "\n",
    "mario=np.genfromtxt(\"mario.csv\",delimiter=\",\")\n",
    "\n",
    "mostrar_tamanyo(mario)\n",
    "\n",
    "mario=mario.reshape((41,31,-1))\n",
    "\n",
    "print(mario.dtype)\n",
    "print(mario.nbytes)\n",
    "\n",
    "figure=plt.figure()\n",
    "axes = figure.add_subplot()\n",
    "axes.imshow(mario)\n",
    "\n",
    "mario=mario.astype(np.uint8)\n",
    "print(mario.nbytes)\n",
    "\n",
    "\n",
    "figure=plt.figure()\n",
    "axes = figure.add_subplot()\n",
    "axes.imshow(mario)\n",
    "\n",
    "\n",
    "figure=plt.figure()\n",
    "axes = figure.add_subplot()\n",
    "axes.imshow(mario[:,:,0])\n",
    "\n",
    "figure=plt.figure()\n",
    "axes = figure.add_subplot()\n",
    "axes.imshow(mario[:,:,1])\n",
    "\n",
    "figure=plt.figure()\n",
    "axes = figure.add_subplot()\n",
    "axes.imshow(mario[:,:,2])\n",
    "\n",
    "print(\"Rojo:\",mario[2,3,0])\n",
    "print(\"Verde:\",mario[2,3,1])\n",
    "print(\"Azul:\",mario[2,3,2])\n",
    "\n",
    "figure=plt.figure()\n",
    "axes = figure.add_subplot()\n",
    "axes.imshow(mario[:,:,0].T)\n",
    "\n",
    "figure=plt.figure()\n",
    "axes = figure.add_subplot()\n",
    "axes.imshow(mario/2)\n"
   ]
  },
  {
   "cell_type": "code",
   "execution_count": 44,
   "metadata": {},
   "outputs": [
    {
     "name": "stdout",
     "output_type": "stream",
     "text": [
      "[200 200 200 ...  90   0   0]\n"
     ]
    },
    {
     "data": {
      "text/plain": [
       "<matplotlib.image.AxesImage at 0x7fc19dc801c0>"
      ]
     },
     "execution_count": 44,
     "metadata": {},
     "output_type": "execute_result"
    },
    {
     "data": {
      "image/png": "[encoded data removed]",
      "text/plain": [
       "<Figure size 432x288 with 1 Axes>"
      ]
     },
     "metadata": {
      "needs_background": "light"
     },
     "output_type": "display_data"
    }
   ],
   "source": [
    "#Ejercicio 21\n",
    "import numpy as np\n",
    "import matplotlib.pyplot as plt\n",
    "\n",
    "\n",
    "\n",
    "def transformacion(x):\n",
    "    if (x>=0) & (x<=63):\n",
    "        return 0\n",
    "    elif  (x>=64) & (x<=127):\n",
    "        return 90\n",
    "    elif  (x>=128) & (x<=191):\n",
    "        return 150\n",
    "    elif  (x>=192) & (x<=255):\n",
    "        return 200\n",
    "    else:\n",
    "        raise Exception(\"Valor fuera de rango\",x)\n",
    "\n",
    "\n",
    "\n",
    "mario=np.genfromtxt(\"mario.csv\",delimiter=\",\")\n",
    "mario=mario.reshape((41,31,-1))\n",
    "\n",
    "mario=mario.reshape((-1))\n",
    "mario=np.array([transformacion(x) for x in mario]).astype(np.uint8)\n",
    "mario=mario.reshape((41,31,-1))\n",
    "\n",
    "figure=plt.figure()\n",
    "axes = figure.add_subplot()\n",
    "axes.imshow(mario)\n"
   ]
  },
  {
   "cell_type": "code",
   "execution_count": 24,
   "metadata": {},
   "outputs": [
    {
     "data": {
      "text/plain": [
       "[<matplotlib.lines.Line2D at 0x7f63b8ba1400>]"
      ]
     },
     "execution_count": 24,
     "metadata": {},
     "output_type": "execute_result"
    },
    {
     "data": {
      "image/png": "[encoded data removed]",
      "text/plain": [
       "<Figure size 576x576 with 1 Axes>"
      ]
     },
     "metadata": {
      "needs_background": "light"
     },
     "output_type": "display_data"
    },
    {
     "data": {
      "image/png": "[encoded data removed]",
      "text/plain": [
       "<Figure size 576x576 with 1 Axes>"
      ]
     },
     "metadata": {
      "needs_background": "light"
     },
     "output_type": "display_data"
    },
    {
     "data": {
      "image/png": "[encoded data removed]",
      "text/plain": [
       "<Figure size 576x576 with 1 Axes>"
      ]
     },
     "metadata": {
      "needs_background": "light"
     },
     "output_type": "display_data"
    },
    {
     "data": {
      "image/png": "[encoded data removed]",
      "text/plain": [
       "<Figure size 576x576 with 1 Axes>"
      ]
     },
     "metadata": {
      "needs_background": "light"
     },
     "output_type": "display_data"
    },
    {
     "data": {
      "image/png": "[encoded data removed]",
      "text/plain": [
       "<Figure size 576x576 with 1 Axes>"
      ]
     },
     "metadata": {
      "needs_background": "light"
     },
     "output_type": "display_data"
    },
    {
     "data": {
      "image/png": "[encoded data removed]",
      "text/plain": [
       "<Figure size 576x576 with 1 Axes>"
      ]
     },
     "metadata": {
      "needs_background": "light"
     },
     "output_type": "display_data"
    }
   ],
   "source": [
    "#Ejercicio 22\n",
    "import matplotlib.pyplot as plt\n",
    "import numpy as np\n",
    "   \n",
    " \n",
    "  \n",
    "x=np.array([-3,-2,-1,0,1,2,3]).astype(float)\n",
    "y =  3*(1 - x)**2 * np.exp(-x**2 )  - 10*(x/5 - x**3 )*np.exp(-x**2 ) - 1./3*np.exp(-(x + 1)**2 )\n",
    "figure=plt.figure(figsize=(8,8))\n",
    "axes = figure.add_subplot()\n",
    "axes.plot(x,y)\n",
    "\n",
    "x=np.linspace(-3,3,10)\n",
    "y =  3*(1 - x)**2 * np.exp(-x**2 )  - 10*(x/5 - x**3 )*np.exp(-x**2 ) - 1./3*np.exp(-(x + 1)**2 )\n",
    "figure=plt.figure(figsize=(8,8))\n",
    "axes = figure.add_subplot()\n",
    "axes.plot(x,y)\n",
    "\n",
    "x=np.linspace(-3,3,20)\n",
    "y =  3*(1 - x)**2 * np.exp(-x**2 )  - 10*(x/5 - x**3 )*np.exp(-x**2 ) - 1./3*np.exp(-(x + 1)**2 )\n",
    "figure=plt.figure(figsize=(8,8))\n",
    "axes = figure.add_subplot()\n",
    "axes.plot(x,y)\n",
    "\n",
    "x=np.linspace(-3,3,40)\n",
    "y =  3*(1 - x)**2 * np.exp(-x**2 )  - 10*(x/5 - x**3 )*np.exp(-x**2 ) - 1./3*np.exp(-(x + 1)**2 )\n",
    "figure=plt.figure(figsize=(8,8))\n",
    "axes = figure.add_subplot()\n",
    "axes.plot(x,y)\n",
    "\n",
    "\n",
    "x=np.linspace(-3,3,60)\n",
    "y =  3*(1 - x)**2 * np.exp(-x**2 )  - 10*(x/5 - x**3 )*np.exp(-x**2 ) - 1./3*np.exp(-(x + 1)**2 )\n",
    "figure=plt.figure(figsize=(8,8))\n",
    "axes = figure.add_subplot()\n",
    "axes.plot(x,y)\n",
    "\n",
    "\n",
    "x=np.linspace(-3,3,100)\n",
    "y =  3*(1 - x)**2 * np.exp(-x**2 )  - 10*(x/5 - x**3 )*np.exp(-x**2 ) - 1./3*np.exp(-(x + 1)**2 )\n",
    "figure=plt.figure(figsize=(8,8))\n",
    "axes = figure.add_subplot()\n",
    "axes.plot(x,y)"
   ]
  },
  {
   "cell_type": "code",
   "execution_count": 34,
   "metadata": {},
   "outputs": [
    {
     "name": "stdout",
     "output_type": "stream",
     "text": [
      "características tenemos de cada tipo de vino 13\n",
      "muestra de vino tenemos 178\n",
      "cuantos tipos distintos de vino tenemos 3\n",
      "tipos distintos de vino tenemos [0. 1. 2.]\n"
     ]
    }
   ],
   "source": [
    "#Ejercicio 23\n",
    "\n",
    "datos=np.genfromtxt(\"wine.csv\",delimiter=\",\")\n",
    "\n",
    "def imprimir_datos(datos):\n",
    "    print(\"características tenemos de cada tipo de vino:\",datos.shape[1]-1)\n",
    "    print(\"muestra de vino tenemos:\",datos.shape[0])\n",
    "    print(\"cuantos tipos distintos de vino tenemos:\",np.unique(datos[:,-1]).shape[0])\n",
    "    print(\"tipos distintos de vino tenemos:\",np.unique(datos[:,-1])) \n",
    "    print(\"valores máximos de cada característica\",np.max(datos[:,0:-1],axis=0))   \n",
    "    print(\"valores mínimos de cada característica\",np.min(datos[:,0:-1],axis=0))\n",
    "\n",
    "    x=datos[:,0:-1]\n",
    "    y=datos[:,-1]\n",
    "    return x,y\n",
    "\n",
    "x,y=imprimir_datos(datos)\n"
   ]
  },
  {
   "cell_type": "code",
   "execution_count": 40,
   "metadata": {},
   "outputs": [
    {
     "name": "stdout",
     "output_type": "stream",
     "text": [
      "0.006428658962249756\n",
      "0.006428658962249756\n"
     ]
    }
   ],
   "source": [
    "#Ejercicio 24\n",
    "\n",
    "import numpy as np\n",
    "import pandas as pd\n",
    "import tensorflow as tf\n",
    "import matplotlib.pyplot as plt\n",
    "from keras.models import Sequential\n",
    "from keras.layers import Dense\n",
    "from sklearn.datasets import load_iris\n",
    "from matplotlib.colors import LightSource\n",
    " \n",
    "iris=load_iris()\n",
    " \n",
    "sepal_length=iris.data[0:99,0]\n",
    "petal_length=iris.data[0:99,2]\n",
    "flower_type=iris.target[0:99]\n",
    " \n",
    "x=np.column_stack((sepal_length,petal_length))\n",
    "y=flower_type\n",
    " \n",
    " \n",
    "np.random.seed(5)\n",
    "tf.random.set_seed(5)\n",
    " \n",
    " \n",
    "model=Sequential()\n",
    "model.add(Dense(6, activation='relu',input_dim=2))\n",
    "model.add(Dense(12, activation='relu'))\n",
    "model.add(Dense(6, activation='relu'))\n",
    "model.add(Dense(1, activation='sigmoid'))\n",
    "model.compile(loss='mean_squared_error')\n",
    " \n",
    " \n",
    "history=model.fit(x, y,epochs=40,verbose=False) \n",
    " \n",
    "loss=history.history['loss']\n",
    "\n",
    "print(loss[-1])\n",
    "print(history.history['loss'][-1])"
   ]
  },
  {
   "cell_type": "code",
   "execution_count": 2,
   "metadata": {},
   "outputs": [
    {
     "name": "stdout",
     "output_type": "stream",
     "text": [
      "  Nº  Red              Épocas    loss Mitad    loss Final    Tiempo (s)\n",
      "----  -------------  --------  ------------  ------------  ------------\n",
      "   0  4,8,4,2,1            20    0.209651     0.191906             0.79\n",
      "   1  4,8,4,2,1            40    0.189802     0.111734             0.86\n",
      "   2  8,16,8,4,1           20    0.218724     0.190873             0.73\n",
      "   3  8,16,8,4,1           40    0.187368     0.131706             0.87\n",
      "   4  16,32,16,8,1         20    0.143569     0.0653756            0.72\n",
      "   5  16,32,16,8,1         40    0.0548877    0.0046529            0.87\n",
      "   6  32,64,32,8,1         20    0.0211689    0.00260244           0.74\n",
      "   7  32,64,32,8,1         40    0.00226261   7.84583e-05          0.87\n",
      "   8  64,128,64,8,1        20    0.0129097    0.00143349           0.77\n",
      "   9  64,128,64,8,1        40    0.00150978   8.06734e-05          1.16\n"
     ]
    }
   ],
   "source": [
    "#Ejercicio 25\n",
    "\n",
    "\n",
    "\n",
    "import numpy as np\n",
    "import pandas as pd\n",
    "import tensorflow as tf\n",
    "import matplotlib.pyplot as plt\n",
    "from keras.models import Sequential\n",
    "from keras.layers import Dense\n",
    "from sklearn.datasets import load_iris\n",
    "from matplotlib.colors import LightSource\n",
    "from tabulate import tabulate\n",
    "from time import perf_counter\n",
    "from sklearn.datasets import load_breast_cancer\n",
    "\n",
    "tf.get_logger().setLevel('ERROR')\n",
    "\n",
    "def get_datos():\n",
    "    iris=load_iris()\n",
    "    \n",
    "    sepal_length=iris.data[0:99,0]\n",
    "    petal_length=iris.data[0:99,2]\n",
    "    flower_type=iris.target[0:99]\n",
    "    \n",
    "    x=np.column_stack((sepal_length,petal_length))\n",
    "    y=flower_type\n",
    "\n",
    "    return x,y\n",
    " \n",
    " \n",
    "\n",
    " \n",
    "def compile_fit(capas,epochs,input_dim,x,y):\n",
    "\n",
    "    np.random.seed(5)\n",
    "    tf.random.set_seed(5)\n",
    "\n",
    "    model=Sequential()\n",
    "    for index,neuronas_capa in enumerate(capas):\n",
    "        if (index==0):\n",
    "            model.add(Dense(neuronas_capa, activation='relu',input_dim=input_dim))\n",
    "        elif (index==len(capas)-1):\n",
    "            model.add(Dense(neuronas_capa, activation='sigmoid'))          \n",
    "        else:\n",
    "            model.add(Dense(neuronas_capa, activation='relu'))\n",
    "\n",
    "    model.compile(loss='mean_squared_error')\n",
    "    \n",
    "    tiempo = perf_counter()\n",
    "    history=model.fit(x, y,epochs=epochs,verbose=False) \n",
    "    tiempo=perf_counter()-tiempo\n",
    "\n",
    "    return model,tiempo,history\n",
    " \n",
    "\n",
    "def array_to_str(datos):\n",
    "    s=\"\"\n",
    "    for index,dato in enumerate(datos):\n",
    "        if (index==0):\n",
    "            s=str(dato)\n",
    "        else:\n",
    "            s=s+\",\"+str(dato)\n",
    "\n",
    "    return s\n",
    "\n",
    "x,y=get_datos()\n",
    "redes=[  \n",
    "        [  [4, 8, 4, 2, 1],\t    20], \n",
    "        [  [4, 8, 4, 2, 1],\t    40], \n",
    "        [  [8, 16, 8, 4, 1],\t20], \n",
    "        [  [8, 16, 8, 4, 1],\t40], \n",
    "        [  [16, 32, 16, 8, 1],\t20], \n",
    "        [  [16, 32, 16, 8, 1],\t40], \n",
    "        [  [32, 64, 32, 8, 1],\t20], \n",
    "        [  [32, 64, 32, 8, 1],\t40], \n",
    "        [  [64, 128, 64, 8, 1],\t20], \n",
    "        [  [64, 128, 64, 8, 1],\t40]  \n",
    "]\n",
    "\n",
    "\n",
    "input_dim=2\n",
    "\n",
    "\n",
    "\n",
    "resultados=[]\n",
    "for index,datos_red in enumerate(redes):\n",
    "    capas=datos_red[0]\n",
    "    epochs=datos_red[1]\n",
    "    model,tiempo,history=compile_fit(capas,epochs,input_dim,x,y)\n",
    "\n",
    "    loss=np.array(history.history['loss'])\n",
    "    mitad_epocas=int(loss.shape[0]/2)\n",
    "    resultados.append([index,array_to_str(capas),epochs,loss[mitad_epocas],loss[-1],round(tiempo,2)])\n",
    "\n",
    "\n",
    "print(tabulate(resultados, headers=[\"Nº\",\"Red\", \"Épocas\", \"loss Mitad\", \"loss Final\",\"Tiempo (s)\"]))"
   ]
  },
  {
   "cell_type": "code",
   "execution_count": 46,
   "metadata": {},
   "outputs": [
    {
     "data": {
      "text/plain": [
       "<matplotlib.legend.Legend at 0x7f635d675e50>"
      ]
     },
     "execution_count": 46,
     "metadata": {},
     "output_type": "execute_result"
    },
    {
     "data": {
      "image/png": "[encoded data removed]",
      "text/plain": [
       "<Figure size 1152x576 with 2 Axes>"
      ]
     },
     "metadata": {
      "needs_background": "light"
     },
     "output_type": "display_data"
    }
   ],
   "source": [
    "#Ejercicio 26\n",
    "import numpy as np\n",
    "import matplotlib.pyplot as plt\n",
    "\n",
    "def resta_siguiente(a):\n",
    "    primeros=a[0:-1]\n",
    "    ultimos=a[1:]\n",
    "\n",
    "    return ultimos-primeros\n",
    "\n",
    "def derivada(x,y):\n",
    "    resta_x=resta_siguiente(x)\n",
    "    resta_y=resta_siguiente(y)\n",
    "\n",
    "    return x[0:-1],resta_y/resta_x\n",
    "\n",
    "x=np.linspace(-2,2,100)\n",
    "y_absoluto=np.abs(x)\n",
    "y_cuadrado=x**2\n",
    "\n",
    "derivada_x_absoluto,derivada_y_absoluto=derivada(x,y_absoluto)\n",
    "derivada_x_cuadrado,derivada_y_cuadrado=derivada(x,y_cuadrado)\n",
    "\n",
    "\n",
    "figure=plt.figure(figsize=(16,8))\n",
    "axes = figure.add_subplot(1,2,1)\n",
    "axes.plot(x,y_absoluto,label=\"Absoluto\")\n",
    "axes.plot(x,y_cuadrado,label=\"Cuadrado\")\n",
    "axes.legend(loc=\"upper left\")\n",
    " \n",
    "axes = figure.add_subplot(1,2,2)\n",
    "axes.plot(derivada_x_absoluto,derivada_y_absoluto,label=\"Derivada Absoluto\")\n",
    "axes.plot(derivada_x_cuadrado,derivada_y_cuadrado,label=\"Derivada Cuadrado\")\n",
    "axes.legend(loc=\"upper left\")\n"
   ]
  }
 ],
 "metadata": {
  "kernelspec": {
   "display_name": "Python 3.8.0 ('.venv')",
   "language": "python",
   "name": "python3"
  },
  "language_info": {
   "codemirror_mode": {
    "name": "ipython",
    "version": 3
   },
   "file_extension": ".py",
   "mimetype": "text/x-python",
   "name": "python",
   "nbconvert_exporter": "python",
   "pygments_lexer": "ipython3",
   "version": "3.8.0"
  },
  "orig_nbformat": 4,
  "vscode": {
   "interpreter": {
    "hash": "fc2c7ccc578413e5450079abc559dd92b91b53947bff11b69e25a8bcd8c87968"
   }
  }
 },
 "nbformat": 4,
 "nbformat_minor": 2
}
