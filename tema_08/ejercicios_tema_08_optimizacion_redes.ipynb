{
 "cells": [
  {
   "cell_type": "code",
   "execution_count": 1,
   "metadata": {},
   "outputs": [
    {
     "name": "stderr",
     "output_type": "stream",
     "text": [
      "2023-10-23 20:32:14.700454: W tensorflow/stream_executor/platform/default/dso_loader.cc:64] Could not load dynamic library 'libcudart.so.11.0'; dlerror: libcudart.so.11.0: cannot open shared object file: No such file or directory\n",
      "2023-10-23 20:32:14.700471: I tensorflow/stream_executor/cuda/cudart_stub.cc:29] Ignore above cudart dlerror if you do not have a GPU set up on your machine.\n"
     ]
    }
   ],
   "source": [
    "import numpy as np\n",
    "import pandas as pd\n",
    "import tensorflow as tf\n",
    "import matplotlib.pyplot as plt\n",
    "from keras.models import Sequential\n",
    "from keras.layers import Dense\n",
    "from sklearn.datasets import load_iris\n",
    "from matplotlib.colors import LightSource\n",
    "from tabulate import tabulate\n",
    "from time import perf_counter\n",
    "from sklearn.datasets import load_breast_cancer\n",
    "from matplotlib.ticker import MaxNLocator\n",
    "from matplotlib.ticker import MultipleLocator\n",
    "from sklearn.model_selection import train_test_split\n",
    "from time import perf_counter\n",
    "from sklearn.preprocessing import LabelBinarizer\n",
    "import random\n",
    "import pandas as pd\n",
    "import seaborn as sns\n",
    "import math\n",
    "import matplotlib.colors\n",
    "import sklearn"
   ]
  },
  {
   "cell_type": "code",
   "execution_count": 2,
   "metadata": {},
   "outputs": [
    {
     "ename": "NameError",
     "evalue": "name 'compile_fit' is not defined",
     "output_type": "error",
     "traceback": [
      "\u001b[0;31m---------------------------------------------------------------------------\u001b[0m",
      "\u001b[0;31mNameError\u001b[0m                                 Traceback (most recent call last)",
      "\u001b[1;32m/home/logongas/Documentos/ensenyament/iabd-pia/soluciones_ejercicios_modulo_pia/tema_08/ejercicios_tema_08_optimizacion_redes.ipynb Celda 2\u001b[0m line \u001b[0;36m3\n\u001b[1;32m     <a href='vscode-notebook-cell:/home/logongas/Documentos/ensenyament/iabd-pia/soluciones_ejercicios_modulo_pia/tema_08/ejercicios_tema_08_optimizacion_redes.ipynb#W1sZmlsZQ%3D%3D?line=29'>30</a>\u001b[0m figure\u001b[39m=\u001b[39mplt\u001b[39m.\u001b[39mfigure(figsize\u001b[39m=\u001b[39m(\u001b[39m21\u001b[39m, \u001b[39m12\u001b[39m))\n\u001b[1;32m     <a href='vscode-notebook-cell:/home/logongas/Documentos/ensenyament/iabd-pia/soluciones_ejercicios_modulo_pia/tema_08/ejercicios_tema_08_optimizacion_redes.ipynb#W1sZmlsZQ%3D%3D?line=30'>31</a>\u001b[0m \u001b[39mfor\u001b[39;00m caption,activation \u001b[39min\u001b[39;00m activations:\n\u001b[0;32m---> <a href='vscode-notebook-cell:/home/logongas/Documentos/ensenyament/iabd-pia/soluciones_ejercicios_modulo_pia/tema_08/ejercicios_tema_08_optimizacion_redes.ipynb#W1sZmlsZQ%3D%3D?line=31'>32</a>\u001b[0m   history,model\u001b[39m=\u001b[39mcompile_fit(capas,activation,\u001b[39m\"\u001b[39m\u001b[39msoftmax\u001b[39m\u001b[39m\"\u001b[39m,\u001b[39m\"\u001b[39m\u001b[39mcategorical_crossentropy\u001b[39m\u001b[39m\"\u001b[39m,epochs,x_train, x_test, y_train, y_test)\n\u001b[1;32m     <a href='vscode-notebook-cell:/home/logongas/Documentos/ensenyament/iabd-pia/soluciones_ejercicios_modulo_pia/tema_08/ejercicios_tema_08_optimizacion_redes.ipynb#W1sZmlsZQ%3D%3D?line=32'>33</a>\u001b[0m   axes \u001b[39m=\u001b[39m figure\u001b[39m.\u001b[39madd_subplot(\u001b[39m2\u001b[39m,\u001b[39m3\u001b[39m,index)\n\u001b[1;32m     <a href='vscode-notebook-cell:/home/logongas/Documentos/ensenyament/iabd-pia/soluciones_ejercicios_modulo_pia/tema_08/ejercicios_tema_08_optimizacion_redes.ipynb#W1sZmlsZQ%3D%3D?line=33'>34</a>\u001b[0m   plot_metrics(axes,history\u001b[39m.\u001b[39mhistory,caption)\n",
      "\u001b[0;31mNameError\u001b[0m: name 'compile_fit' is not defined"
     ]
    },
    {
     "data": {
      "text/plain": [
       "<Figure size 2100x1200 with 0 Axes>"
      ]
     },
     "metadata": {},
     "output_type": "display_data"
    }
   ],
   "source": [
    "# Ejercicio 1\n",
    "from sklearn.datasets import load_digits\n",
    "\n",
    "def get_datos():\n",
    "  datos=load_digits()\n",
    "  x=datos.data\n",
    "  y=datos.target\n",
    "  label_binarizer = LabelBinarizer()\n",
    "  label_binarizer.fit(range(max(y)+1))\n",
    "  y = label_binarizer.transform(y)\n",
    "\n",
    "  x_train, x_test, y_train, y_test = train_test_split(x, y, test_size=0.2, random_state=42,stratify=y)\n",
    "\n",
    "  return x_train, x_test, y_train, y_test\n",
    "\n",
    "x_train, x_test, y_train, y_test=get_datos()\n",
    "\n",
    "epochs=300\n",
    "capas=[4,8,16,8,10]\n",
    "activations=[\n",
    "        (\"Sigmoid\",\"sigmoid\"),\n",
    "        (\"Tan Hiperbolica\",\"tanh\"),\n",
    "        (\"ReLU\",\"relu\"),\n",
    "        (\"Leaky ReLU\",tf.keras.layers.LeakyReLU()),\n",
    "        (\"ELU\",\"elu\"),\n",
    "        (\"SeLU\",\"selu\")]\n",
    "    \n",
    "\n",
    "index=1\n",
    "figure=plt.figure(figsize=(21, 12))\n",
    "for caption,activation in activations:\n",
    "  history,model=compile_fit(capas,activation,\"softmax\",\"categorical_crossentropy\",epochs,x_train, x_test, y_train, y_test)\n",
    "  axes = figure.add_subplot(2,3,index)\n",
    "  plot_metrics(axes,history.history,caption)\n",
    "  index=index+1\n",
    "\n",
    "figure.tight_layout()"
   ]
  }
 ],
 "metadata": {
  "kernelspec": {
   "display_name": ".venv",
   "language": "python",
   "name": "python3"
  },
  "language_info": {
   "codemirror_mode": {
    "name": "ipython",
    "version": 3
   },
   "file_extension": ".py",
   "mimetype": "text/x-python",
   "name": "python",
   "nbconvert_exporter": "python",
   "pygments_lexer": "ipython3",
   "version": "3.10.6"
  },
  "orig_nbformat": 4
 },
 "nbformat": 4,
 "nbformat_minor": 2
}
