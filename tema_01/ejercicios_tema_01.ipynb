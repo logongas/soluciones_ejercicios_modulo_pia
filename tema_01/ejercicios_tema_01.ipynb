{
 "cells": [
  {
   "cell_type": "code",
   "execution_count": 1,
   "metadata": {},
   "outputs": [
    {
     "name": "stderr",
     "output_type": "stream",
     "text": [
      "2025-03-10 09:51:15.754381: I tensorflow/core/platform/cpu_feature_guard.cc:210] This TensorFlow binary is optimized to use available CPU instructions in performance-critical operations.\n",
      "To enable the following instructions: AVX2 FMA, in other operations, rebuild TensorFlow with the appropriate compiler flags.\n",
      "2025-03-10 09:51:16.341386: W tensorflow/compiler/tf2tensorrt/utils/py_utils.cc:38] TF-TRT Warning: Could not find TensorRT\n"
     ]
    }
   ],
   "source": [
    "import random\n",
    "import numpy as np\n",
    "import pandas as pd\n",
    "import tensorflow as tf\n",
    "import matplotlib.pyplot as plt\n",
    "\n",
    "from tensorflow.keras.models import Sequential\n",
    "from tensorflow.keras.layers import Dense\n",
    "from sklearn.datasets import load_iris\n",
    "from tabulate import tabulate"
   ]
  },
  {
   "cell_type": "code",
   "execution_count": 2,
   "metadata": {},
   "outputs": [
    {
     "name": "stderr",
     "output_type": "stream",
     "text": [
      "/home/logongas/Documentos/desarrollo/python_default_env/.venv/lib/python3.10/site-packages/keras/src/layers/core/dense.py:87: UserWarning: Do not pass an `input_shape`/`input_dim` argument to a layer. When using Sequential models, prefer using an `Input(shape)` object as the first layer in the model instead.\n",
      "  super().__init__(activity_regularizer=activity_regularizer, **kwargs)\n",
      "2025-03-10 09:51:17.316686: I external/local_xla/xla/stream_executor/cuda/cuda_executor.cc:998] successful NUMA node read from SysFS had negative value (-1), but there must be at least one NUMA node, so returning NUMA node zero. See more at https://github.com/torvalds/linux/blob/v6.0/Documentation/ABI/testing/sysfs-bus-pci#L344-L355\n",
      "2025-03-10 09:51:17.354618: I external/local_xla/xla/stream_executor/cuda/cuda_executor.cc:998] successful NUMA node read from SysFS had negative value (-1), but there must be at least one NUMA node, so returning NUMA node zero. See more at https://github.com/torvalds/linux/blob/v6.0/Documentation/ABI/testing/sysfs-bus-pci#L344-L355\n",
      "2025-03-10 09:51:17.354835: I external/local_xla/xla/stream_executor/cuda/cuda_executor.cc:998] successful NUMA node read from SysFS had negative value (-1), but there must be at least one NUMA node, so returning NUMA node zero. See more at https://github.com/torvalds/linux/blob/v6.0/Documentation/ABI/testing/sysfs-bus-pci#L344-L355\n",
      "2025-03-10 09:51:17.356035: I external/local_xla/xla/stream_executor/cuda/cuda_executor.cc:998] successful NUMA node read from SysFS had negative value (-1), but there must be at least one NUMA node, so returning NUMA node zero. See more at https://github.com/torvalds/linux/blob/v6.0/Documentation/ABI/testing/sysfs-bus-pci#L344-L355\n",
      "2025-03-10 09:51:17.356202: I external/local_xla/xla/stream_executor/cuda/cuda_executor.cc:998] successful NUMA node read from SysFS had negative value (-1), but there must be at least one NUMA node, so returning NUMA node zero. See more at https://github.com/torvalds/linux/blob/v6.0/Documentation/ABI/testing/sysfs-bus-pci#L344-L355\n",
      "2025-03-10 09:51:17.356362: I external/local_xla/xla/stream_executor/cuda/cuda_executor.cc:998] successful NUMA node read from SysFS had negative value (-1), but there must be at least one NUMA node, so returning NUMA node zero. See more at https://github.com/torvalds/linux/blob/v6.0/Documentation/ABI/testing/sysfs-bus-pci#L344-L355\n",
      "2025-03-10 09:51:17.422418: I external/local_xla/xla/stream_executor/cuda/cuda_executor.cc:998] successful NUMA node read from SysFS had negative value (-1), but there must be at least one NUMA node, so returning NUMA node zero. See more at https://github.com/torvalds/linux/blob/v6.0/Documentation/ABI/testing/sysfs-bus-pci#L344-L355\n",
      "2025-03-10 09:51:17.422648: I external/local_xla/xla/stream_executor/cuda/cuda_executor.cc:998] successful NUMA node read from SysFS had negative value (-1), but there must be at least one NUMA node, so returning NUMA node zero. See more at https://github.com/torvalds/linux/blob/v6.0/Documentation/ABI/testing/sysfs-bus-pci#L344-L355\n",
      "2025-03-10 09:51:17.422834: I external/local_xla/xla/stream_executor/cuda/cuda_executor.cc:998] successful NUMA node read from SysFS had negative value (-1), but there must be at least one NUMA node, so returning NUMA node zero. See more at https://github.com/torvalds/linux/blob/v6.0/Documentation/ABI/testing/sysfs-bus-pci#L344-L355\n",
      "2025-03-10 09:51:17.422960: I tensorflow/core/common_runtime/gpu/gpu_device.cc:1928] Created device /job:localhost/replica:0/task:0/device:GPU:0 with 7451 MB memory:  -> device: 0, name: NVIDIA GeForce GTX 1080, pci bus id: 0000:01:00.0, compute capability: 6.1\n",
      "WARNING: All log messages before absl::InitializeLog() is called are written to STDERR\n",
      "I0000 00:00:1741596678.461479 1125313 service.cc:145] XLA service 0x7f9890003940 initialized for platform CUDA (this does not guarantee that XLA will be used). Devices:\n",
      "I0000 00:00:1741596678.461504 1125313 service.cc:153]   StreamExecutor device (0): NVIDIA GeForce GTX 1080, Compute Capability 6.1\n",
      "2025-03-10 09:51:18.478480: I tensorflow/compiler/mlir/tensorflow/utils/dump_mlir_util.cc:268] disabling MLIR crash reproducer, set env var `MLIR_CRASH_REPRODUCER_DIRECTORY` to enable.\n",
      "2025-03-10 09:51:18.558447: I external/local_xla/xla/stream_executor/cuda/cuda_dnn.cc:465] Loaded cuDNN version 8907\n",
      "I0000 00:00:1741596678.842571 1125313 device_compiler.h:188] Compiled cluster using XLA!  This line is logged at most once for the lifetime of the process.\n"
     ]
    },
    {
     "name": "stdout",
     "output_type": "stream",
     "text": [
      "  Largo Pétalo    Ancho Pétalo    Score Flor Predicha (y_score)    Valor Flor Predicha(y_pred)    Valor Flor Real(y_true)\n",
      "--------------  --------------  -------------------------------  -----------------------------  -------------------------\n",
      "           1.3             0.3                         0.167054                              0                          0\n",
      "           3.9             1.2                         0.964128                              1                          1\n"
     ]
    }
   ],
   "source": [
    "#Ejercicio 1.A\n",
    "iris=load_iris()\n",
    "\n",
    "longitudes_petalos=iris.data[0:99,2]\n",
    "anchos_petalos=iris.data[0:99,3]\n",
    "flower_type=iris.target[0:99]\n",
    " \n",
    "x=np.column_stack((longitudes_petalos,anchos_petalos))\n",
    "y=flower_type\n",
    "\n",
    "\n",
    "np.random.seed(5)\n",
    "tf.random.set_seed(5)\n",
    "random.seed(5)\n",
    "\n",
    "model=Sequential()\n",
    "model.add(Dense(6, activation='relu',input_dim=2))\n",
    "model.add(Dense(12, activation='relu'))\n",
    "model.add(Dense(6, activation='relu'))\n",
    "model.add(Dense(1, activation='sigmoid'))\n",
    "model.compile(loss='binary_crossentropy')\n",
    "\n",
    "\n",
    "model.fit(x, y,epochs=100,verbose=False)\n",
    "\n",
    "y_score_a=model.predict(np.array([[1.3,0.3]]),verbose=False)\n",
    "if (y_score_a<=0.5):\n",
    "    y_pred_a=0\n",
    "else:\n",
    "    y_pred_a=1\n",
    "\n",
    "y_score_b=model.predict(np.array([[3.9,1.2]]),verbose=False)\n",
    "if (y_score_b<=0.5):\n",
    "    y_pred_b=0\n",
    "else:\n",
    "    y_pred_b=1\n",
    "\n",
    "datos=[  \n",
    "    [1.3,0.3,y_score_a,y_pred_a,0], \n",
    "    [3.9,1.2,y_score_b,y_pred_b,1]\n",
    "]\n",
    " \n",
    " \n",
    "print(tabulate(datos, headers=[\"Largo Pétalo\",\"Ancho Pétalo\",\"Score Flor Predicha (y_score)\",\"Valor Flor Predicha(y_pred)\",\"Valor Flor Real(y_true)\"]))\n"
   ]
  },
  {
   "cell_type": "code",
   "execution_count": 3,
   "metadata": {},
   "outputs": [
    {
     "name": "stdout",
     "output_type": "stream",
     "text": [
      "\u001b[1m 162/2813\u001b[0m \u001b[32m━\u001b[0m\u001b[37m━━━━━━━━━━━━━━━━━━━\u001b[0m \u001b[1m1s\u001b[0m 629us/step"
     ]
    },
    {
     "name": "stderr",
     "output_type": "stream",
     "text": [
      "/home/logongas/Documentos/desarrollo/python_default_env/.venv/lib/python3.10/site-packages/keras/src/models/functional.py:225: UserWarning: The structure of `inputs` doesn't match the expected structure: keras_tensor. Received: the structure of inputs=('*',)\n",
      "  warnings.warn(\n"
     ]
    },
    {
     "name": "stdout",
     "output_type": "stream",
     "text": [
      "\u001b[1m2813/2813\u001b[0m \u001b[32m━━━━━━━━━━━━━━━━━━━━\u001b[0m\u001b[37m\u001b[0m \u001b[1m2s\u001b[0m 656us/step\n"
     ]
    },
    {
     "data": {
      "text/plain": [
       "<matplotlib.legend.Legend at 0x7f99a0110580>"
      ]
     },
     "execution_count": 3,
     "metadata": {},
     "output_type": "execute_result"
    },
    {
     "data": {
      "image/png": "[encoded data removed]",
      "text/plain": [
       "<Figure size 500x400 with 1 Axes>"
      ]
     },
     "metadata": {},
     "output_type": "display_data"
    }
   ],
   "source": [
    "#Ejercicio 1.B\n",
    "\n",
    "from matplotlib.colors import ListedColormap\n",
    "figure=plt.figure(figsize = (5, 4))\n",
    "axes = figure.add_subplot()\n",
    " \n",
    "colors = [\"#0E5581\", \"#8F0C00\", \"#0C8F00\"] \n",
    "cmap = ListedColormap(colors[:len(np.unique(y))]) \n",
    " \n",
    " \n",
    "colors = [\"#83B5F1\", \"#FF8175\", \"#75FF81\"] \n",
    "cmap_fondo = ListedColormap(colors[:len(np.unique(y))]) \n",
    " \n",
    " \n",
    "xt=np.linspace(0,8,300)\n",
    "yt=np.linspace(0,3,300)\n",
    "xt,yt=np.meshgrid(xt,yt)\n",
    " \n",
    "xa=xt.reshape(-1)\n",
    "ya=yt.reshape(-1)\n",
    " \n",
    "xya=np.column_stack((xa,ya))\n",
    " \n",
    "za=model.predict([xya])\n",
    " \n",
    "zt=np.reshape(za,xt.shape)\n",
    " \n",
    " \n",
    "scatter=axes.scatter(x=xa, y=ya, c=za, cmap=cmap_fondo,s=6)\n",
    "axes.set_xlabel('Largo Pétalo')  \n",
    "axes.set_ylabel('Ancho Pétalo')\n",
    " \n",
    "for i, name in enumerate([\"Setosa\",\"Versicolor\"]):\n",
    "    color = scatter.cmap(scatter.norm(i)) \n",
    "    axes.scatter([], [], color=[color], label=name+\":\"+str(i)) \n",
    "scatter=axes.scatter(x=x[:,0], y=x[:,1], c=y, cmap=cmap,s=6)\n",
    "axes.set_xlim(xmin=0,xmax=8)\n",
    "axes.set_ylim(ymin=0,ymax=3)\n",
    "axes.legend(title=\"Flores\")"
   ]
  },
  {
   "cell_type": "code",
   "execution_count": 4,
   "metadata": {},
   "outputs": [
    {
     "name": "stdout",
     "output_type": "stream",
     "text": [
      "  Largo Pétalo    Ancho Pétalo    Score Flor Predicha (y_score)    Valor Flor Predicha(y_pred)    Valor Flor Real(y_true)\n",
      "--------------  --------------  -------------------------------  -----------------------------  -------------------------\n",
      "           1.3             0.3                         0.552505                              1                          0\n",
      "           3.9             1.2                         0.7109                                1                          1\n"
     ]
    }
   ],
   "source": [
    "#Ejercicio 2.A\n",
    "\n",
    "iris=load_iris()\n",
    "\n",
    "longitudes_petalos=iris.data[0:99,2]\n",
    "anchos_petalos=iris.data[0:99,3]\n",
    "flower_type=iris.target[0:99]\n",
    " \n",
    "x=np.column_stack((longitudes_petalos,anchos_petalos))\n",
    "y=flower_type\n",
    "\n",
    "\n",
    "\n",
    "np.random.seed(5)\n",
    "tf.random.set_seed(5)\n",
    "random.seed(5)\n",
    "\n",
    "model=Sequential()\n",
    "model.add(Dense(4, activation='relu',input_dim=2))\n",
    "model.add(Dense(5, activation='relu'))\n",
    "model.add(Dense(3, activation='relu'))\n",
    "model.add(Dense(1, activation='sigmoid'))\n",
    "model.compile(loss='binary_crossentropy')\n",
    "\n",
    "\n",
    "model.fit(x, y,epochs=30,verbose=False)\n",
    "\n",
    "\n",
    "\n",
    "\n",
    "y_score_a=model.predict(np.array([[1.3,0.3]]),verbose=False)\n",
    "if (y_score_a<=0.5):\n",
    "    y_pred_a=0\n",
    "else:\n",
    "    y_pred_a=1\n",
    "\n",
    "y_score_b=model.predict(np.array([[3.9,1.2]]),verbose=False)\n",
    "if (y_score_b<=0.5):\n",
    "    y_pred_b=0\n",
    "else:\n",
    "    y_pred_b=1\n",
    "\n",
    "datos=[  \n",
    "    [1.3,0.3,y_score_a,y_pred_a,0], \n",
    "    [3.9,1.2,y_score_b,y_pred_b,1]\n",
    "]\n",
    "print(tabulate(datos, headers=[\"Largo Pétalo\",\"Ancho Pétalo\",\"Score Flor Predicha (y_score)\",\"Valor Flor Predicha(y_pred)\",\"Valor Flor Real(y_true)\"]))\n",
    "\n"
   ]
  },
  {
   "cell_type": "code",
   "execution_count": 5,
   "metadata": {},
   "outputs": [
    {
     "name": "stdout",
     "output_type": "stream",
     "text": [
      "\u001b[1m 171/2813\u001b[0m \u001b[32m━\u001b[0m\u001b[37m━━━━━━━━━━━━━━━━━━━\u001b[0m \u001b[1m1s\u001b[0m 603us/step"
     ]
    },
    {
     "name": "stderr",
     "output_type": "stream",
     "text": [
      "/home/logongas/Documentos/desarrollo/python_default_env/.venv/lib/python3.10/site-packages/keras/src/models/functional.py:225: UserWarning: The structure of `inputs` doesn't match the expected structure: keras_tensor_11. Received: the structure of inputs=('*',)\n",
      "  warnings.warn(\n"
     ]
    },
    {
     "name": "stdout",
     "output_type": "stream",
     "text": [
      "\u001b[1m2813/2813\u001b[0m \u001b[32m━━━━━━━━━━━━━━━━━━━━\u001b[0m\u001b[37m\u001b[0m \u001b[1m2s\u001b[0m 636us/step\n"
     ]
    },
    {
     "data": {
      "text/plain": [
       "<matplotlib.legend.Legend at 0x7f999a3d7310>"
      ]
     },
     "execution_count": 5,
     "metadata": {},
     "output_type": "execute_result"
    },
    {
     "data": {
      "image/png": "[encoded data removed]",
      "text/plain": [
       "<Figure size 500x400 with 1 Axes>"
      ]
     },
     "metadata": {},
     "output_type": "display_data"
    }
   ],
   "source": [
    "#Ejercicio 2.B \n",
    "\n",
    "from matplotlib.colors import ListedColormap\n",
    "figure=plt.figure(figsize = (5, 4))\n",
    "axes = figure.add_subplot()\n",
    " \n",
    "colors = [\"#0E5581\", \"#8F0C00\", \"#0C8F00\"] \n",
    "cmap = ListedColormap(colors[:len(np.unique(y))]) \n",
    " \n",
    " \n",
    "colors = [\"#83B5F1\", \"#FF8175\", \"#75FF81\"] \n",
    "cmap_fondo = ListedColormap(colors[:len(np.unique(y))]) \n",
    " \n",
    " \n",
    "xt=np.linspace(0,8,300)\n",
    "yt=np.linspace(0,3,300)\n",
    "xt,yt=np.meshgrid(xt,yt)\n",
    " \n",
    "xa=xt.reshape(-1)\n",
    "ya=yt.reshape(-1)\n",
    " \n",
    "xya=np.column_stack((xa,ya))\n",
    " \n",
    "za=model.predict([xya])\n",
    " \n",
    "zt=np.reshape(za,xt.shape)\n",
    " \n",
    " \n",
    "scatter=axes.scatter(x=xa, y=ya, c=za, cmap=cmap_fondo,s=6)\n",
    "axes.set_xlabel('Largo Pétalo')  \n",
    "axes.set_ylabel('Ancho Pétalo')\n",
    " \n",
    "for i, name in enumerate([\"Setosa\",\"Versicolor\"]):\n",
    "    color = scatter.cmap(scatter.norm(i)) \n",
    "    axes.scatter([], [], color=[color], label=name+\":\"+str(i)) \n",
    "scatter=axes.scatter(x=x[:,0], y=x[:,1], c=y, cmap=cmap,s=6)\n",
    "axes.set_xlim(xmin=0,xmax=8)\n",
    "axes.set_ylim(ymin=0,ymax=3)\n",
    "axes.legend(title=\"Flores\")"
   ]
  },
  {
   "cell_type": "code",
   "execution_count": 6,
   "metadata": {},
   "outputs": [
    {
     "name": "stdout",
     "output_type": "stream",
     "text": [
      "  Largo Pétalo    Ancho Pétalo    Score Flor Predicha (y_score)    Valor Flor Predicha(y_pred)    Valor Flor Real(y_true)\n",
      "--------------  --------------  -------------------------------  -----------------------------  -------------------------\n",
      "           5.1             1.5                         0.999998                              1                          2\n",
      "           5.8             2.2                         1                                     1                          2\n"
     ]
    },
    {
     "data": {
      "image/png": "[encoded data removed]",
      "text/plain": [
       "<Figure size 500x400 with 1 Axes>"
      ]
     },
     "metadata": {},
     "output_type": "display_data"
    }
   ],
   "source": [
    "#Ejercicio 3\n",
    "iris=load_iris()\n",
    "\n",
    "longitudes_petalos=iris.data[:,2]\n",
    "anchos_petalos=iris.data[:,3]\n",
    "flower_type=iris.target[:]\n",
    " \n",
    "x=np.column_stack((longitudes_petalos,anchos_petalos))\n",
    "y=flower_type\n",
    "\n",
    "\n",
    "\n",
    "np.random.seed(5)\n",
    "tf.random.set_seed(5)\n",
    "random.seed(5)\n",
    "\n",
    "model=Sequential()\n",
    "model.add(Dense(6, activation='relu',input_dim=2))\n",
    "model.add(Dense(12, activation='relu'))\n",
    "model.add(Dense(6, activation='relu'))\n",
    "model.add(Dense(1, activation='sigmoid'))\n",
    "model.compile(loss='binary_crossentropy')\n",
    "\n",
    "\n",
    "model.fit(x, y,epochs=40,verbose=False)\n",
    "\n",
    "from matplotlib.colors import ListedColormap\n",
    "figure=plt.figure(figsize = (5, 4))\n",
    "axes = figure.add_subplot()\n",
    " \n",
    "colors = [\"#0E5581\", \"#8F0C00\", \"#0C8F00\"]  \n",
    "cmap = ListedColormap(colors[:len(np.unique(y))]) \n",
    " \n",
    " \n",
    "scatter=axes.scatter(x=x[:,0], y=x[:,1], c=y, cmap=cmap,s=6)\n",
    "axes.set_xlabel('Largo Pétalo')  \n",
    "axes.set_ylabel('Ancho Pétalo')\n",
    " \n",
    "for i, name in enumerate([\"Setosa\",\"Versicolor\",\"Virginica\"]):\n",
    "    color = scatter.cmap(scatter.norm(i)) \n",
    "    axes.scatter([], [], color=[color], label=name+\":\"+str(i))  \n",
    " \n",
    "axes.set_xlim(xmin=0,xmax=8)\n",
    "axes.set_ylim(ymin=0,ymax=3)\n",
    "axes.legend(title=\"Flores\")\n",
    "\n",
    "\n",
    "y_score_a=model.predict(np.array([[5.1, 1.5]]),verbose=False)\n",
    "if (y_score_a<0.5):\n",
    "    y_pred_a=0\n",
    "elif y_score_a>1:\n",
    "    y_pred_a=2\n",
    "else:\n",
    "    y_pred_a=1\n",
    "\n",
    "y_score_b=model.predict(np.array([[5.8, 2.2]]),verbose=False)\n",
    "if (y_score_b<0.5):\n",
    "    y_pred_b=0\n",
    "elif y_score_b>1:\n",
    "    y_pred_b=2\n",
    "else:\n",
    "    y_pred_b=1\n",
    "\n",
    "datos=[  \n",
    "    [5.1, 1.5,y_score_a,y_pred_a,2], \n",
    "    [5.8, 2.2,y_score_b,y_pred_b,2]\n",
    "]\n",
    " \n",
    " \n",
    "print(tabulate(datos, headers=[\"Largo Pétalo\",\"Ancho Pétalo\",\"Score Flor Predicha (y_score)\",\"Valor Flor Predicha(y_pred)\",\"Valor Flor Real(y_true)\"]))\n",
    "\n",
    "\n",
    "\n",
    "\n",
    "\n"
   ]
  },
  {
   "cell_type": "code",
   "execution_count": 7,
   "metadata": {},
   "outputs": [],
   "source": [
    "#Ejercicio 4\n",
    "\n",
    "#Problema 1: Saber si una foto es una cara\n",
    "#Problema 2: Detectar si en una radiografía hay una fractura\n",
    "#Problema 3: Saber si va a llover al día siguiente"
   ]
  },
  {
   "cell_type": "code",
   "execution_count": 8,
   "metadata": {},
   "outputs": [
    {
     "name": "stdout",
     "output_type": "stream",
     "text": [
      "[  19.21       18.57      125.5      1152.          0.1053      0.1267\n",
      "    0.1323      0.08994     0.1917      0.05961     0.7275      1.193\n",
      "    4.837     102.5         0.006458    0.02306     0.02945     0.01538\n",
      "    0.01852     0.002608   26.14       28.14      170.1      2145.\n",
      "    0.1624      0.3511      0.3879      0.2091      0.3537      0.08294 ] 0\n",
      "[ 12.47      18.6       81.09     481.9        0.09965    0.1058\n",
      "   0.08005    0.03821    0.1925     0.06373    0.3961     1.044\n",
      "   2.497     30.29       0.006953   0.01911    0.02701    0.01037\n",
      "   0.01782    0.003586  14.97      24.64      96.05     677.9\n",
      "   0.1426     0.2378     0.2671     0.1015     0.3014     0.0875  ] 1\n"
     ]
    },
    {
     "name": "stderr",
     "output_type": "stream",
     "text": [
      "/home/logongas/Documentos/desarrollo/python_default_env/.venv/lib/python3.10/site-packages/tabulate/__init__.py:108: FutureWarning: elementwise comparison failed; returning scalar instead, but in the future will perform elementwise comparison\n",
      "  or (len(row) >= 2 and row[1] == SEPARATING_LINE)\n"
     ]
    },
    {
     "name": "stdout",
     "output_type": "stream",
     "text": [
      "  Fila Datos    Score Flor Predicha (y_score)    Valor Flor Predicha(y_pred)    Valor Flor Real(y_true)\n",
      "------------  -------------------------------  -----------------------------  -------------------------\n",
      "          56                      3.21248e-12                              0                          0\n",
      "         204                      0.476836                                 0                          1\n",
      "WARNING:tensorflow:5 out of the last 2818 calls to <function TensorFlowTrainer.make_predict_function.<locals>.one_step_on_data_distributed at 0x7f9998832dd0> triggered tf.function retracing. Tracing is expensive and the excessive number of tracings could be due to (1) creating @tf.function repeatedly in a loop, (2) passing tensors with different shapes, (3) passing Python objects instead of tensors. For (1), please define your @tf.function outside of the loop. For (2), @tf.function has reduce_retracing=True option that can avoid unnecessary retracing. For (3), please refer to https://www.tensorflow.org/guide/function#controlling_retracing and https://www.tensorflow.org/api_docs/python/tf/function for  more details.\n",
      "  Fila Datos    Score Flor Predicha (y_score)    Valor Flor Predicha(y_pred)    Valor Flor Real(y_true)\n",
      "------------  -------------------------------  -----------------------------  -------------------------\n",
      "          56                      3.38831e-06                              0                          0\n",
      "         204                      0.492738                                 0                          1\n"
     ]
    }
   ],
   "source": [
    "#Ejercicio 5\n",
    "\n",
    "from sklearn.datasets import load_breast_cancer\n",
    " \n",
    "breast_cancer=load_breast_cancer()\n",
    " \n",
    "x=breast_cancer.data\n",
    "y=breast_cancer.target\n",
    "\n",
    "np.set_printoptions(suppress=True)\n",
    "print(x[56],y[56])\n",
    "print(x[204],y[204])\n",
    "\n",
    "np.random.seed(5)\n",
    "tf.random.set_seed(5)\n",
    "random.seed(5)\n",
    "\n",
    "model=Sequential()\n",
    "model.add(Dense(30, activation='relu',input_dim=30))\n",
    "model.add(Dense(60, activation='relu'))\n",
    "model.add(Dense(100, activation='relu'))\n",
    "model.add(Dense(60, activation='relu'))\n",
    "model.add(Dense(30, activation='relu'))\n",
    "model.add(Dense(10, activation='relu'))\n",
    "model.add(Dense(1, activation='sigmoid'))\n",
    "\n",
    "model.compile(loss='binary_crossentropy')\n",
    "\n",
    "\n",
    "model.fit(x, y,epochs=40,verbose=False)\n",
    "\n",
    "y_score_a=model.predict(np.array(x[56:57,:]),verbose=False)\n",
    "if (y_score_a<=0.5):\n",
    "    y_pred_a=0\n",
    "else:\n",
    "    y_pred_a=1\n",
    "\n",
    "y_score_b=model.predict(np.array(x[204:205,:]),verbose=False)\n",
    "if (y_score_b<=0.5):\n",
    "    y_pred_b=0\n",
    "else:\n",
    "    y_pred_b=1\n",
    "\n",
    "datos=[  \n",
    "    [56,y_score_a,y_pred_a,0], \n",
    "    [204,y_score_b,y_pred_b,1]\n",
    "]\n",
    "print(tabulate(datos, headers=[\"Fila Datos\",\"Score Flor Predicha (y_score)\",\"Valor Flor Predicha(y_pred)\",\"Valor Flor Real(y_true)\"]))\n",
    "\n",
    "\n",
    "np.random.seed(5)\n",
    "tf.random.set_seed(5)\n",
    "random.seed(5)\n",
    "\n",
    "model=Sequential()\n",
    "model.add(Dense(6, activation='relu',input_dim=30))\n",
    "model.add(Dense(12, activation='relu'))\n",
    "model.add(Dense(6, activation='relu'))\n",
    "model.add(Dense(1, activation='sigmoid'))\n",
    "model.compile(loss='binary_crossentropy')\n",
    "\n",
    "\n",
    "model.fit(x, y,epochs=40,verbose=False)\n",
    "\n",
    "y_score_a=model.predict(np.array(x[56:57,:]),verbose=False)\n",
    "if (y_score_a<=0.5):\n",
    "    y_pred_a=0\n",
    "else:\n",
    "    y_pred_a=1\n",
    "\n",
    "y_score_b=model.predict(np.array(x[204:205,:]),verbose=False)\n",
    "if (y_score_b<=0.5):\n",
    "    y_pred_b=0\n",
    "else:\n",
    "    y_pred_b=1\n",
    "\n",
    "datos=[  \n",
    "    [56,y_score_a,y_pred_a,0], \n",
    "    [204,y_score_b,y_pred_b,1]\n",
    "]\n",
    "print(tabulate(datos, headers=[\"Fila Datos\",\"Score Flor Predicha (y_score)\",\"Valor Flor Predicha(y_pred)\",\"Valor Flor Real(y_true)\"]))\n",
    "\n",
    "\n",
    "\n",
    "\n",
    "\n",
    "\n"
   ]
  },
  {
   "cell_type": "code",
   "execution_count": 9,
   "metadata": {},
   "outputs": [
    {
     "name": "stdout",
     "output_type": "stream",
     "text": [
      "WARNING:tensorflow:6 out of the last 2820 calls to <function TensorFlowTrainer.make_predict_function.<locals>.one_step_on_data_distributed at 0x7f999851dea0> triggered tf.function retracing. Tracing is expensive and the excessive number of tracings could be due to (1) creating @tf.function repeatedly in a loop, (2) passing tensors with different shapes, (3) passing Python objects instead of tensors. For (1), please define your @tf.function outside of the loop. For (2), @tf.function has reduce_retracing=True option that can avoid unnecessary retracing. For (3), please refer to https://www.tensorflow.org/guide/function#controlling_retracing and https://www.tensorflow.org/api_docs/python/tf/function for  more details.\n",
      "  Fila Datos    Score Flor Predicha (y_score)    Valor Flor Predicha(y_pred)    Valor Flor Real(y_true)\n",
      "------------  -------------------------------  -----------------------------  -------------------------\n",
      "          56                      2.35421e-13                              0                          0\n",
      "         204                      0.400019                                 0                          1\n",
      "  Fila Datos    Score Flor Predicha (y_score)    Valor Flor Predicha(y_pred)    Valor Flor Real(y_true)\n",
      "------------  -------------------------------  -----------------------------  -------------------------\n",
      "          56                         0.362648                              0                          0\n",
      "         204                         0.714481                              1                          1\n"
     ]
    }
   ],
   "source": [
    "#Ejercicio 6\n",
    "np.random.seed(6)\n",
    "tf.random.set_seed(6)\n",
    "random.seed(6)\n",
    "\n",
    "model=Sequential()\n",
    "model.add(Dense(6, activation='relu',input_dim=30))\n",
    "model.add(Dense(12, activation='relu'))\n",
    "model.add(Dense(6, activation='relu'))\n",
    "model.add(Dense(1, activation='sigmoid'))\n",
    "model.compile(loss='binary_crossentropy')\n",
    "\n",
    "\n",
    "model.fit(x, y,epochs=40,verbose=False)\n",
    "\n",
    "y_score_a=model.predict(np.array(x[56:57,:]),verbose=False)\n",
    "if (y_score_a<=0.5):\n",
    "    y_pred_a=0\n",
    "else:\n",
    "    y_pred_a=1\n",
    "\n",
    "y_score_b=model.predict(np.array(x[204:205,:]),verbose=False)\n",
    "if (y_score_b<=0.5):\n",
    "    y_pred_b=0\n",
    "else:\n",
    "    y_pred_b=1\n",
    "\n",
    "datos=[  \n",
    "    [56,y_score_a,y_pred_a,0], \n",
    "    [204,y_score_b,y_pred_b,1]\n",
    "]\n",
    "print(tabulate(datos, headers=[\"Fila Datos\",\"Score Flor Predicha (y_score)\",\"Valor Flor Predicha(y_pred)\",\"Valor Flor Real(y_true)\"]))\n",
    "\n",
    "\n",
    "np.random.seed(88)\n",
    "tf.random.set_seed(88)\n",
    "random.seed(88)\n",
    "\n",
    "model=Sequential()\n",
    "model.add(Dense(6, activation='relu',input_dim=30))\n",
    "model.add(Dense(12, activation='relu'))\n",
    "model.add(Dense(6, activation='relu'))\n",
    "model.add(Dense(1, activation='sigmoid'))\n",
    "model.compile(loss='binary_crossentropy')\n",
    "\n",
    "\n",
    "model.fit(x, y,epochs=40,verbose=False)\n",
    "\n",
    "y_score_a=model.predict(np.array(x[56:57,:]),verbose=False)\n",
    "if (y_score_a<=0.5):\n",
    "    y_pred_a=0\n",
    "else:\n",
    "    y_pred_a=1\n",
    "\n",
    "y_score_b=model.predict(np.array(x[204:205,:]),verbose=False)\n",
    "if (y_score_b<=0.5):\n",
    "    y_pred_b=0\n",
    "else:\n",
    "    y_pred_b=1\n",
    "\n",
    "datos=[  \n",
    "    [56,y_score_a,y_pred_a,0], \n",
    "    [204,y_score_b,y_pred_b,1]\n",
    "]\n",
    "print(tabulate(datos, headers=[\"Fila Datos\",\"Score Flor Predicha (y_score)\",\"Valor Flor Predicha(y_pred)\",\"Valor Flor Real(y_true)\"]))\n",
    "\n"
   ]
  }
 ],
 "metadata": {
  "kernelspec": {
   "display_name": ".venv",
   "language": "python",
   "name": "python3"
  },
  "language_info": {
   "codemirror_mode": {
    "name": "ipython",
    "version": 3
   },
   "file_extension": ".py",
   "mimetype": "text/x-python",
   "name": "python",
   "nbconvert_exporter": "python",
   "pygments_lexer": "ipython3",
   "version": "3.10.12"
  },
  "orig_nbformat": 4
 },
 "nbformat": 4,
 "nbformat_minor": 2
}
