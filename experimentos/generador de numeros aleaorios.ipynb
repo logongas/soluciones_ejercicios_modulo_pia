{
 "cells": [
  {
   "cell_type": "code",
   "execution_count": 9,
   "metadata": {},
   "outputs": [],
   "source": [
    "import sys\n",
    "import random\n",
    "import numpy as np\n",
    "import tensorflow as tf"
   ]
  },
  {
   "cell_type": "code",
   "execution_count": 10,
   "metadata": {},
   "outputs": [
    {
     "name": "stdout",
     "output_type": "stream",
     "text": [
      "Versión de Python: 3.10.12 (main, Jun 11 2023, 05:26:28) [GCC 11.4.0]\n",
      "Versión de NumPy: 1.23.5\n",
      "Versión de TensorFlow: 2.8.4\n"
     ]
    }
   ],
   "source": [
    "print(\"Versión de Python:\", sys.version)\n",
    "print(\"Versión de NumPy:\", np.__version__)\n",
    "print(\"Versión de TensorFlow:\", tf.__version__)"
   ]
  },
  {
   "cell_type": "code",
   "execution_count": 5,
   "metadata": {},
   "outputs": [
    {
     "name": "stdout",
     "output_type": "stream",
     "text": [
      "Con random: 0.6229016948897019\n",
      "Con Numpy: 0.22199317108973948\n",
      "Con Tensorflow: 0.6263931\n"
     ]
    }
   ],
   "source": [
    "random.seed(5) \n",
    "np.random.seed(5)\n",
    "tf.random.set_seed(5)\n",
    " \n",
    "\n",
    "print(\"Con random:\",random.uniform(0.0, 1.0))\n",
    "print(\"Con Numpy:\",np.random.uniform())\n",
    "print(\"Con Tensorflow:\",tf.random.uniform(shape=(), minval=0, maxval=1).numpy())\n"
   ]
  },
  {
   "cell_type": "code",
   "execution_count": 4,
   "metadata": {},
   "outputs": [
    {
     "name": "stdout",
     "output_type": "stream",
     "text": [
      "Con random: 0.793340083761663\n",
      "Con Numpy: 0.22199317108973948\n",
      "Con Tensorflow: 0.6263931\n"
     ]
    }
   ],
   "source": [
    "random.seed(6)  \n",
    "np.random.seed(5)\n",
    "tf.random.set_seed(5)\n",
    "\n",
    "\n",
    "print(\"Con random:\",random.uniform(0.0, 1.0))\n",
    "print(\"Con Numpy:\",np.random.uniform())\n",
    "print(\"Con Tensorflow:\",tf.random.uniform(shape=(), minval=0, maxval=1).numpy())"
   ]
  },
  {
   "cell_type": "code",
   "execution_count": 6,
   "metadata": {},
   "outputs": [
    {
     "name": "stdout",
     "output_type": "stream",
     "text": [
      "Con random: 0.793340083761663\n",
      "Con Numpy: 0.8928601514360016\n",
      "Con Tensorflow: 0.6263931\n"
     ]
    }
   ],
   "source": [
    "random.seed(6)  \n",
    "np.random.seed(6)\n",
    "tf.random.set_seed(5)\n",
    "\n",
    "\n",
    "print(\"Con random:\",random.uniform(0.0, 1.0))\n",
    "print(\"Con Numpy:\",np.random.uniform())\n",
    "print(\"Con Tensorflow:\",tf.random.uniform(shape=(), minval=0, maxval=1).numpy())"
   ]
  },
  {
   "cell_type": "code",
   "execution_count": 7,
   "metadata": {},
   "outputs": [
    {
     "name": "stdout",
     "output_type": "stream",
     "text": [
      "Con random: 0.793340083761663\n",
      "Con Numpy: 0.8928601514360016\n",
      "Con Tensorflow: 0.61288714\n"
     ]
    }
   ],
   "source": [
    "random.seed(6)  \n",
    "np.random.seed(6)\n",
    "tf.random.set_seed(6)\n",
    "\n",
    "\n",
    "print(\"Con random:\",random.uniform(0.0, 1.0))\n",
    "print(\"Con Numpy:\",np.random.uniform())\n",
    "print(\"Con Tensorflow:\",tf.random.uniform(shape=(), minval=0, maxval=1).numpy())"
   ]
  }
 ],
 "metadata": {
  "kernelspec": {
   "display_name": ".venv",
   "language": "python",
   "name": "python3"
  },
  "language_info": {
   "codemirror_mode": {
    "name": "ipython",
    "version": 3
   },
   "file_extension": ".py",
   "mimetype": "text/x-python",
   "name": "python",
   "nbconvert_exporter": "python",
   "pygments_lexer": "ipython3",
   "version": "3.10.6"
  }
 },
 "nbformat": 4,
 "nbformat_minor": 2
}
