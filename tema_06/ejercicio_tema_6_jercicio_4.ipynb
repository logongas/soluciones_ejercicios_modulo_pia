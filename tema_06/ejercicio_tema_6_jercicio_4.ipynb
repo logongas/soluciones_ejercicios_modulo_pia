{
 "cells": [
  {
   "cell_type": "markdown",
   "metadata": {},
   "source": [
    "## Tema 6. Ejercicio 4"
   ]
  },
  {
   "cell_type": "markdown",
   "metadata": {},
   "source": [
    "$$y_3=\\frac{1}{1+e^{-(w_{31} \\cdot x_1 +  w_{32} \\cdot x_2 + b_3)}}$$\n",
    "$$y=\\frac{1}{1+e^{-(w_{4} \\cdot y_3 + b_4)}}$$\n",
    "\n",
    "$$y=\\frac{1}{1+e^{-(w_{4} \\cdot (\\frac{1}{1+e^{-(w_{31} \\cdot x_1 +  w_{32} \\cdot x_2 + b_3)}}) + b_4)}}$$"
   ]
  },
  {
   "cell_type": "code",
   "execution_count": 2,
   "metadata": {},
   "outputs": [],
   "source": [
    "import numpy as np\n",
    "import pandas as pd\n",
    "import tensorflow as tf\n",
    "import matplotlib.pyplot as plt\n",
    "from tensorflow.keras.models import Sequential\n",
    "from tensorflow.keras.layers import Dense\n",
    "from sklearn.datasets import load_iris\n",
    "from matplotlib.colors import LightSource\n",
    "from tensorflow.keras.utils import plot_model"
   ]
  },
  {
   "cell_type": "code",
   "execution_count": 21,
   "metadata": {},
   "outputs": [
    {
     "data": {
      "text/plain": [
       "[<matplotlib.lines.Line2D at 0x7feb487ad460>]"
      ]
     },
     "execution_count": 21,
     "metadata": {},
     "output_type": "execute_result"
    },
    {
     "data": {
      "image/png": "[encoded data removed]",
      "text/plain": [
       "<Figure size 432x288 with 1 Axes>"
      ]
     },
     "metadata": {
      "needs_background": "light"
     },
     "output_type": "display_data"
    }
   ],
   "source": [
    "iris=load_iris()\n",
    "x=iris.data[0:99,[0,2]]\n",
    "y=iris.target[0:99]\n",
    "\n",
    "np.random.seed(5)\n",
    "tf.random.set_seed(5)\n",
    " \n",
    "model=Sequential()\n",
    "model.add(Dense(1, activation='sigmoid',input_dim=2))\n",
    "model.add(Dense(1, activation='sigmoid'))\n",
    "model.compile(loss='mean_squared_error')\n",
    "history=model.fit(x,y,epochs=1500,verbose=False)\n",
    " \n",
    "plt.plot(history.history['loss'])\n"
   ]
  },
  {
   "cell_type": "code",
   "execution_count": 24,
   "metadata": {},
   "outputs": [
    {
     "name": "stdout",
     "output_type": "stream",
     "text": [
      "-1.2757663\t\t3.4290311\t\t-2.437649\t\t5.231714\t\t-2.5284233\n"
     ]
    }
   ],
   "source": [
    "def get_w(model,layer,neuron,index):\n",
    "    layer=model.layers[layer]\n",
    "    return layer.get_weights()[0][index,neuron]\n",
    "  \n",
    "  \n",
    "  \n",
    "def get_b(model,layer,neuron):\n",
    "    layer=model.layers[layer]\n",
    "    return layer.get_weights()[1][neuron]\n",
    " \n",
    " \n",
    "w_31 =get_w(model,0,0,0)\n",
    "w_32 =get_w(model,0,0,1)\n",
    "b_3 =get_b(model,0,0)\n",
    "w_4=get_w(model,1,0,0)\n",
    "b_4 =get_b(model,1,0)\n",
    "print(w_31,w_32,b_3,w_4,b_4,sep=\"\\t\\t\")"
   ]
  },
  {
   "cell_type": "code",
   "execution_count": 30,
   "metadata": {},
   "outputs": [
    {
     "name": "stdout",
     "output_type": "stream",
     "text": [
      "-1.2757663\t\t3.4290311\t\t-2.437649\t\t5.231714\t\t-2.5284233\n",
      "5.0 1.6\n",
      "0\n",
      "Con la formula 0.087253515155528\n",
      "Con Keras: [[0.08725345]]\n"
     ]
    }
   ],
   "source": [
    "def sigmoid(x):\n",
    "    return 1/(1 + np.exp(-x))\n",
    " \n",
    "def predict_formula(x1,x2):\n",
    "    part1=w_4*sigmoid(w_31*x1+w_32*x2+b_3)\n",
    "    part2=b_4\n",
    "    z=part1+part2\n",
    " \n",
    "    return sigmoid(z)\n",
    "n=25\n",
    "print(w_31,w_32,b_3,w_4,b_4,sep=\"\\t\\t\")\n",
    "print(x[n,0],x[n,1])\n",
    "print(y[n])\n",
    "print(\"Con la formula\",predict_formula(x[n,0],x[n,1]))\n",
    "print(\"Con Keras:\",model.predict([[x[n,0],x[n,1]]]))"
   ]
  }
 ],
 "metadata": {
  "interpreter": {
   "hash": "22c652cd20859a5aa72106ed104eed87a8b8b9b882c0cd7287b59b95cac8fb49"
  },
  "kernelspec": {
   "display_name": "Python 3.8.8 64-bit ('base': conda)",
   "name": "python3"
  },
  "language_info": {
   "codemirror_mode": {
    "name": "ipython",
    "version": 3
   },
   "file_extension": ".py",
   "mimetype": "text/x-python",
   "name": "python",
   "nbconvert_exporter": "python",
   "pygments_lexer": "ipython3",
   "version": "3.8.8"
  },
  "orig_nbformat": 4
 },
 "nbformat": 4,
 "nbformat_minor": 2
}
