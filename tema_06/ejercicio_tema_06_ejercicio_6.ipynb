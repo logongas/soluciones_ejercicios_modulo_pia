{
 "cells": [
  {
   "cell_type": "code",
   "execution_count": 2,
   "metadata": {},
   "outputs": [],
   "source": [
    "import numpy as np\n",
    "import pandas as pd\n",
    "import tensorflow as tf\n",
    "import matplotlib.pyplot as plt\n",
    "from tensorflow.keras.models import Sequential\n",
    "from tensorflow.keras.layers import Dense\n",
    "from sklearn.datasets import load_iris\n",
    "from matplotlib.colors import LightSource\n",
    "from tensorflow.keras.utils import plot_model\n",
    "from sklearn.datasets import load_breast_cancer"
   ]
  },
  {
   "cell_type": "code",
   "execution_count": 4,
   "metadata": {},
   "outputs": [
    {
     "name": "stdout",
     "output_type": "stream",
     "text": [
      "(569, 30)\n",
      "(569,)\n"
     ]
    }
   ],
   "source": [
    "breast_cancer=load_breast_cancer()\n",
    " \n",
    "x=breast_cancer.data\n",
    "y=breast_cancer.target\n",
    "\n",
    "print(x.shape)\n",
    "print(y.shape)"
   ]
  },
  {
   "cell_type": "code",
   "execution_count": 25,
   "metadata": {},
   "outputs": [],
   "source": [
    "\n",
    "def get_model(neurons_layer,kernel_initializer):\n",
    "    np.random.seed(5)\n",
    "    tf.random.set_seed(5)\n",
    "\n",
    "\n",
    "    model=Sequential()\n",
    "    for index,neurons in enumerate(neurons_layer):\n",
    "        if (index==0):\n",
    "            model.add(Dense(neurons, activation='relu',input_dim=x.shape[1],kernel_initializer=kernel_initializer))\n",
    "        else:\n",
    "            model.add(Dense(neurons, activation='relu',kernel_initializer=kernel_initializer))\n",
    "    model.add(Dense(1, activation='sigmoid'))\n",
    "    model.compile(loss='mean_squared_error')\n",
    "\n",
    "    return model\n",
    " \n",
    "\n",
    "def get_loss(neurons_layer,kernel_initializer):\n",
    "    model=get_model(neurons_layer,kernel_initializer)\n",
    "    history=model.fit(x, y,epochs=20,verbose=False)\n",
    "    return history.history['loss'][-1]\n",
    "\n",
    "\n",
    " "
   ]
  },
  {
   "cell_type": "code",
   "execution_count": 26,
   "metadata": {},
   "outputs": [
    {
     "name": "stdout",
     "output_type": "stream",
     "text": [
      "9 lecun_normal= 0.2380332201719284 he_normal= 0.2380332201719284\n",
      "31 lecun_normal= 0.07598768174648285 he_normal= 0.6274164915084839\n"
     ]
    }
   ],
   "source": [
    "neurons_layer=[2,4,8,16,20,16,8,4,2]\n",
    "print(len(neurons_layer),\"lecun_normal=\",get_loss(neurons_layer,\"lecun_normal\"),\"he_normal=\",get_loss(neurons_layer,\"he_normal\"))\n",
    "\n",
    "neurons_layer=[10, 12, 14, 16, 18, 20, 22, 24, 26, 28, 30, 32,34, 36, 38,40,38, 36, 34, 32, 30, 28, 26, 24, 22, 20, 18, 16, 14, 12, 10]\n",
    "print(len(neurons_layer),\"lecun_normal=\",get_loss(neurons_layer,\"lecun_normal\"),\"he_normal=\",get_loss(neurons_layer,\"he_normal\"))\n"
   ]
  }
 ],
 "metadata": {
  "interpreter": {
   "hash": "22c652cd20859a5aa72106ed104eed87a8b8b9b882c0cd7287b59b95cac8fb49"
  },
  "kernelspec": {
   "display_name": "Python 3.8.8 ('base')",
   "language": "python",
   "name": "python3"
  },
  "language_info": {
   "codemirror_mode": {
    "name": "ipython",
    "version": 3
   },
   "file_extension": ".py",
   "mimetype": "text/x-python",
   "name": "python",
   "nbconvert_exporter": "python",
   "pygments_lexer": "ipython3",
   "version": "3.8.8"
  },
  "orig_nbformat": 4
 },
 "nbformat": 4,
 "nbformat_minor": 2
}
